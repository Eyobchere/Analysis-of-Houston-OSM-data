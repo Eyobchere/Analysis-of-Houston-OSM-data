{
 "cells": [
  {
   "cell_type": "markdown",
   "metadata": {},
   "source": [
    "# OPEN STREET MAP PROJECT (CITY OF HOUSTON)\n"
   ]
  },
  {
   "cell_type": "markdown",
   "metadata": {},
   "source": [
    "In this project I used sql and converted the query results into pandas data frame for the purpose of clear tabular \n",
    "visualization in the notebook."
   ]
  },
  {
   "cell_type": "code",
   "execution_count": 2,
   "metadata": {
    "collapsed": false
   },
   "outputs": [],
   "source": [
    "import sqlite3\n",
    "import pandas as pd\n",
    "import numpy as np\n",
    "import csv\n",
    "import re\n",
    "from itertools import islice\n",
    "import matplotlib.pyplot as plt\n",
    "import seaborn as sns\n",
    "%matplotlib inline"
   ]
  },
  {
   "cell_type": "markdown",
   "metadata": {},
   "source": [
    "# OpenStreetMap Data Project"
   ]
  },
  {
   "cell_type": "markdown",
   "metadata": {},
   "source": [
    "Data: The extracted dat is the open street map data for the Greater Houston Area. Houston is my home city and I was \n",
    "curious to investigate the data. The data link is https://mapzen.com/data/metro-extracts/metro/houston_texas/\n"
   ]
  },
  {
   "cell_type": "markdown",
   "metadata": {},
   "source": [
    "\n",
    "File size =468.4 MB (unzipped)"
   ]
  },
  {
   "cell_type": "code",
   "execution_count": 3,
   "metadata": {
    "collapsed": true
   },
   "outputs": [],
   "source": [
    "filename=\"/Users/eyobe/Desktop/UDML/analysis/openstreet/nodes_tags.csv\""
   ]
  },
  {
   "cell_type": "markdown",
   "metadata": {},
   "source": [
    "# Problems encountered in the data"
   ]
  },
  {
   "cell_type": "markdown",
   "metadata": {},
   "source": [
    "\n",
    " After extracting the nodes, nodes_tags, ways,ways_tags,and ways_nodes from xml to csv format I encountered the following problems.\n",
    " \n",
    "1. Data type inconsistency: \n",
    "The field values of the nodes.csv file were not in the correct format  of my        sql     schema to load into sql table. I fixed the problem  by converting the field values into     their correct types and also I found that the primary keys in the all 4 of the files       were not unique, that led me to remove the primary key constraint from my tables'   schema. The code to convert the field values into the correct types is using node_and_way_reshaping.py file and the schema of my sql tables are in sql_schema.py file.\n",
    " \n",
    "2. Data values in other languages : \n",
    "The nodes_tags csv file has enteries written in different languages other than English, I cleaned out that befor I load to the sql table. There were about 50 field values written in other languages here I printed out 5  of them as example from the csv file and laso in DataFrame format. The main code I used to clean is found in auditing_city_and_street.py file.\n",
    " "
   ]
  },
  {
   "cell_type": "code",
   "execution_count": 4,
   "metadata": {
    "collapsed": false,
    "scrolled": true
   },
   "outputs": [
    {
     "name": "stdout",
     "output_type": "stream",
     "text": [
      "{'value': '\\xe1\\x88\\x82\\xe1\\x8b\\x8d\\xe1\\x88\\xb5\\xe1\\x89\\xb0\\xe1\\x8a\\x95', 'type': 'name', 'id': '27526178', 'key': 'am'}\n",
      "\n",
      "\n",
      "{'value': '\\xd9\\x87\\xd9\\x8a\\xd9\\x88\\xd8\\xb3\\xd8\\xaa\\xd9\\x86\\xd8\\x8c \\xd8\\xaa\\xd9\\x83\\xd8\\xb3\\xd8\\xa7\\xd8\\xb3', 'type': 'name', 'id': '27526178', 'key': 'ar'}\n",
      "\n",
      "\n",
      "{'value': 'Hyuston', 'type': 'name', 'id': '27526178', 'key': 'az'}\n",
      "\n",
      "\n",
      "{'value': \"\\xd0\\xa5'\\xd1\\x8e\\xd1\\x81\\xd1\\x82\\xd0\\xb0\\xd0\\xbd\", 'type': 'name', 'id': '27526178', 'key': 'be'}\n",
      "\n",
      "\n",
      "{'value': '\\xd0\\xa5\\xd1\\x8e\\xd1\\x81\\xd1\\x82\\xd1\\x8a\\xd0\\xbd', 'type': 'name', 'id': '27526178', 'key': 'bg'}\n",
      "\n",
      "\n"
     ]
    }
   ],
   "source": [
    "with open (filename,\"r\") as f:\n",
    "    reader=csv.DictReader(f)\n",
    "    header=reader.fieldnames\n",
    "    for line in islice(reader, 5,10):\n",
    "        print line \n",
    "        print \"\\n\""
   ]
  },
  {
   "cell_type": "code",
   "execution_count": 5,
   "metadata": {
    "collapsed": false,
    "scrolled": true
   },
   "outputs": [
    {
     "data": {
      "text/html": [
       "<div>\n",
       "<table border=\"1\" class=\"dataframe\">\n",
       "  <thead>\n",
       "    <tr style=\"text-align: right;\">\n",
       "      <th></th>\n",
       "      <th>id</th>\n",
       "      <th>key</th>\n",
       "      <th>value</th>\n",
       "      <th>type</th>\n",
       "    </tr>\n",
       "  </thead>\n",
       "  <tbody>\n",
       "    <tr>\n",
       "      <th>5</th>\n",
       "      <td>27526178</td>\n",
       "      <td>am</td>\n",
       "      <td>ሂውስተን</td>\n",
       "      <td>name</td>\n",
       "    </tr>\n",
       "    <tr>\n",
       "      <th>6</th>\n",
       "      <td>27526178</td>\n",
       "      <td>ar</td>\n",
       "      <td>هيوستن، تكساس</td>\n",
       "      <td>name</td>\n",
       "    </tr>\n",
       "    <tr>\n",
       "      <th>7</th>\n",
       "      <td>27526178</td>\n",
       "      <td>az</td>\n",
       "      <td>Hyuston</td>\n",
       "      <td>name</td>\n",
       "    </tr>\n",
       "    <tr>\n",
       "      <th>8</th>\n",
       "      <td>27526178</td>\n",
       "      <td>be</td>\n",
       "      <td>Х'юстан</td>\n",
       "      <td>name</td>\n",
       "    </tr>\n",
       "    <tr>\n",
       "      <th>9</th>\n",
       "      <td>27526178</td>\n",
       "      <td>bg</td>\n",
       "      <td>Хюстън</td>\n",
       "      <td>name</td>\n",
       "    </tr>\n",
       "  </tbody>\n",
       "</table>\n",
       "</div>"
      ],
      "text/plain": [
       "         id key          value  type\n",
       "5  27526178  am          ሂውስተን  name\n",
       "6  27526178  ar  هيوستن، تكساس  name\n",
       "7  27526178  az        Hyuston  name\n",
       "8  27526178  be        Х'юстан  name\n",
       "9  27526178  bg         Хюстън  name"
      ]
     },
     "execution_count": 5,
     "metadata": {},
     "output_type": "execute_result"
    }
   ],
   "source": [
    "nodes_tags_df= pd.read_csv(filename)\n",
    "nodes_tags_df[5:10]"
   ]
  },
  {
   "cell_type": "markdown",
   "metadata": {},
   "source": [
    "3.Over abberevated street names: \n",
    "Some street names are over abbrevated for like, St instead of street, Ave, instead of Avenue, etc.. and the  writing was not uniform in some of the street names. I cleaned these irregularities and modified the street names with a complete name except those without specified street types(there are streets with only name but no type i.e not known whether they are street, avenue...etc). The code I used to clean street names and city names before I write to the sql table is given in auditing_city_and_street.py file."
   ]
  },
  {
   "cell_type": "markdown",
   "metadata": {},
   "source": [
    "4.Inconsistent zip codes and non unique zipcode keys: \n",
    "The Zip code keys in the\n",
    "data under nodes_tags and way_tags are; 'postcode','postal_code','Zipcode'  \n",
    "'zip_right','zip_left_1','zip_left_2','zip_right_1','zip_left'. \n",
    "I wrote a function to find  inconsistent zip codes from node_tags and way_tags. The following were invalid zipcods I found.['Weslayan Street', '88581', 'TX 77494', 'TX 77009', 'TX 77086', '75057', '7-', 'TX 77005']. Though the zipcodes 77494,77009,77086 are valid Houston zip codes, they all preceded by TX and categorized as invalid. The full code I used to I used to extract valid and Invalid zipcodes is in zipcode_auditing.py file and the function  is given below.\n"
   ]
  },
  {
   "cell_type": "code",
   "execution_count": 47,
   "metadata": {
    "collapsed": true
   },
   "outputs": [],
   "source": [
    "\n",
    "\"\"\"THIS FUNCTION CLEANS AND EXTRACTS PROBLEMATIC ZIP CODES \"\"\"\n",
    "def clean_zip_code(z):\n",
    "    validcode=[]\n",
    "    invalidcode=[]\n",
    "    for value in z:\n",
    "         #  US zipcodes  are usually five digit and sometimes may may be written as xxxxx-yyyy where \n",
    "            #xs and ys are integers.\n",
    "        if (len(value)<5) or (not value.split(\"-\")[0].isdigit()):  \n",
    "            invalidcode.append(value)\n",
    "        #print value[0:2]\n",
    "        elif value.split(\"-\")[0].isdigit() and int(value[0:2])!=77: #Houston, Texas zip code\n",
    "             invalidcode.append(value)\n",
    "        else:\n",
    "             validcode.append(value)\n",
    "    return invalidcode,validcode"
   ]
  },
  {
   "cell_type": "markdown",
   "metadata": {
    "collapsed": true
   },
   "source": [
    "5.Problems in the city names:  I found the same city name written in different ways for example Houston was written in the following different formats; \"Houston\",\"Houston, Texas\",\"Houston, TX\",\"HOUSTON\", the same city but some how different names example (\"The Woodlands\" and, \"Woodlands\"), with also spelling error \"Houson\". I found this type of non uniformity and also spelling errors in all other cities for example \"Dickinson, Tx\",\"Dickinson\",\"Dickenson\" for Dickinson city. I try to fix the non uniformity by writing the city into similar format of the form City, State, Country format before I load to sql table. The main code I used is auditing_city_and_street.py file."
   ]
  },
  {
   "cell_type": "code",
   "execution_count": 48,
   "metadata": {
    "collapsed": true
   },
   "outputs": [],
   "source": [
    "#def clean_city(city):\n",
    "    #city=city.split(\",\")\n",
    "    #city_with_state_country=city[0].capitalize()+','+'Texas'+','+'USA'\n",
    "    #return city_with_state"
   ]
  },
  {
   "cell_type": "markdown",
   "metadata": {},
   "source": [
    "# Analaysis of the data using SQL\n",
    "The schema of my sql tables and the codes to import from csv to sql are given in the sql_schema.py file. \n",
    "Here I used sqlite3 API to perform queries on this jupyter note book and I wrote  a simple function that display the results of the sql queries in to pandas data frame for only purpose of clear tabular presentation. The code to read sql queries into pandas data frame is given in  sql_to_dataframe.py file and also given here in the notebook below."
   ]
  },
  {
   "cell_type": "code",
   "execution_count": 6,
   "metadata": {
    "collapsed": true
   },
   "outputs": [],
   "source": [
    "#Function to  convert my sql queries to pandas dDataFrame.\n",
    "def sql_to_df(sql_query):\n",
    "\n",
    "    # Use pandas to pass sql query using connection form SQLite3\n",
    "    df = pd.read_sql(sql_query, con)\n",
    "    #df.index= False\n",
    "    # Show the resulting DataFrame\n",
    "    return df"
   ]
  },
  {
   "cell_type": "markdown",
   "metadata": {
    "collapsed": false
   },
   "source": [
    "# CREATING SQL CONNECTION"
   ]
  },
  {
   "cell_type": "code",
   "execution_count": 51,
   "metadata": {
    "collapsed": false,
    "scrolled": true
   },
   "outputs": [],
   "source": [
    "con = sqlite3.connect('openstreet.db')\n"
   ]
  },
  {
   "cell_type": "markdown",
   "metadata": {},
   "source": [
    "# Number of Nodes \n"
   ]
  },
  {
   "cell_type": "code",
   "execution_count": 50,
   "metadata": {
    "collapsed": false
   },
   "outputs": [
    {
     "data": {
      "text/html": [
       "<div>\n",
       "<table border=\"1\" class=\"dataframe\">\n",
       "  <thead>\n",
       "    <tr style=\"text-align: right;\">\n",
       "      <th></th>\n",
       "      <th>Total_number_of_nodes</th>\n",
       "    </tr>\n",
       "  </thead>\n",
       "  <tbody>\n",
       "    <tr>\n",
       "      <th>0</th>\n",
       "      <td>1956751</td>\n",
       "    </tr>\n",
       "  </tbody>\n",
       "</table>\n",
       "</div>"
      ],
      "text/plain": [
       "   Total_number_of_nodes\n",
       "0                1956751"
      ]
     },
     "execution_count": 50,
     "metadata": {},
     "output_type": "execute_result"
    }
   ],
   "source": [
    "query='''SELECT COUNT(*)  as Total_number_of_nodes FROM new_nodes;\n",
    "'''\n",
    "sql_to_df(query)"
   ]
  },
  {
   "cell_type": "markdown",
   "metadata": {},
   "source": [
    "# Number of Ways"
   ]
  },
  {
   "cell_type": "code",
   "execution_count": 54,
   "metadata": {
    "collapsed": false
   },
   "outputs": [
    {
     "data": {
      "text/html": [
       "<div>\n",
       "<table border=\"1\" class=\"dataframe\">\n",
       "  <thead>\n",
       "    <tr style=\"text-align: right;\">\n",
       "      <th></th>\n",
       "      <th>Total_number_of_ways</th>\n",
       "    </tr>\n",
       "  </thead>\n",
       "  <tbody>\n",
       "    <tr>\n",
       "      <th>0</th>\n",
       "      <td>10220</td>\n",
       "    </tr>\n",
       "  </tbody>\n",
       "</table>\n",
       "</div>"
      ],
      "text/plain": [
       "   Total_number_of_ways\n",
       "0                 10220"
      ]
     },
     "execution_count": 54,
     "metadata": {},
     "output_type": "execute_result"
    }
   ],
   "source": [
    "query='''SELECT COUNT(*) as Total_number_of_ways FROM new_ways;\n",
    "'''\n",
    "\n",
    "sql_to_df(query)"
   ]
  },
  {
   "cell_type": "markdown",
   "metadata": {},
   "source": [
    "# Total Number of contributions"
   ]
  },
  {
   "cell_type": "code",
   "execution_count": 56,
   "metadata": {
    "collapsed": false
   },
   "outputs": [
    {
     "data": {
      "text/html": [
       "<div>\n",
       "<table border=\"1\" class=\"dataframe\">\n",
       "  <thead>\n",
       "    <tr style=\"text-align: right;\">\n",
       "      <th></th>\n",
       "      <th>Total_number_of_contributions</th>\n",
       "    </tr>\n",
       "  </thead>\n",
       "  <tbody>\n",
       "    <tr>\n",
       "      <th>0</th>\n",
       "      <td>1966971</td>\n",
       "    </tr>\n",
       "  </tbody>\n",
       "</table>\n",
       "</div>"
      ],
      "text/plain": [
       "   Total_number_of_contributions\n",
       "0                        1966971"
      ]
     },
     "execution_count": 56,
     "metadata": {},
     "output_type": "execute_result"
    }
   ],
   "source": [
    "query='''SELECT COUNT(*) AS Total_number_of_contributions FROM (SELECT uid FROM new_nodes UNION ALL SELECT uid FROM new_ways);\n",
    "'''\n",
    "sql_to_df(query)"
   ]
  },
  {
   "cell_type": "code",
   "execution_count": 33,
   "metadata": {
    "collapsed": false
   },
   "outputs": [],
   "source": [
    "#qq='''SELECT * FROM new_nodes LIMIT 5;'''\n",
    "\n",
    "#sql_to_df(qq)"
   ]
  },
  {
   "cell_type": "markdown",
   "metadata": {},
   "source": [
    "# Top 10 Contributers"
   ]
  },
  {
   "cell_type": "code",
   "execution_count": 57,
   "metadata": {
    "collapsed": false
   },
   "outputs": [
    {
     "data": {
      "text/html": [
       "<div>\n",
       "<table border=\"1\" class=\"dataframe\">\n",
       "  <thead>\n",
       "    <tr style=\"text-align: right;\">\n",
       "      <th></th>\n",
       "      <th>uid</th>\n",
       "      <th>user</th>\n",
       "      <th>num</th>\n",
       "    </tr>\n",
       "  </thead>\n",
       "  <tbody>\n",
       "    <tr>\n",
       "      <th>0</th>\n",
       "      <td>147510</td>\n",
       "      <td>woodpeck_fixbot</td>\n",
       "      <td>378618</td>\n",
       "    </tr>\n",
       "    <tr>\n",
       "      <th>1</th>\n",
       "      <td>1110270</td>\n",
       "      <td>afdreher</td>\n",
       "      <td>356686</td>\n",
       "    </tr>\n",
       "    <tr>\n",
       "      <th>2</th>\n",
       "      <td>3119079</td>\n",
       "      <td>cammace</td>\n",
       "      <td>165690</td>\n",
       "    </tr>\n",
       "    <tr>\n",
       "      <th>3</th>\n",
       "      <td>496606</td>\n",
       "      <td>scottyc</td>\n",
       "      <td>160336</td>\n",
       "    </tr>\n",
       "    <tr>\n",
       "      <th>4</th>\n",
       "      <td>9065</td>\n",
       "      <td>brianboru</td>\n",
       "      <td>107868</td>\n",
       "    </tr>\n",
       "    <tr>\n",
       "      <th>5</th>\n",
       "      <td>119881</td>\n",
       "      <td>claysmalley</td>\n",
       "      <td>87596</td>\n",
       "    </tr>\n",
       "    <tr>\n",
       "      <th>6</th>\n",
       "      <td>475877</td>\n",
       "      <td>RoadGeek_MD99</td>\n",
       "      <td>67567</td>\n",
       "    </tr>\n",
       "    <tr>\n",
       "      <th>7</th>\n",
       "      <td>243003</td>\n",
       "      <td>skquinn</td>\n",
       "      <td>60580</td>\n",
       "    </tr>\n",
       "    <tr>\n",
       "      <th>8</th>\n",
       "      <td>672878</td>\n",
       "      <td>TexasNHD</td>\n",
       "      <td>47051</td>\n",
       "    </tr>\n",
       "    <tr>\n",
       "      <th>9</th>\n",
       "      <td>2176227</td>\n",
       "      <td>Memoire</td>\n",
       "      <td>46787</td>\n",
       "    </tr>\n",
       "  </tbody>\n",
       "</table>\n",
       "</div>"
      ],
      "text/plain": [
       "       uid             user     num\n",
       "0   147510  woodpeck_fixbot  378618\n",
       "1  1110270         afdreher  356686\n",
       "2  3119079          cammace  165690\n",
       "3   496606          scottyc  160336\n",
       "4     9065        brianboru  107868\n",
       "5   119881      claysmalley   87596\n",
       "6   475877    RoadGeek_MD99   67567\n",
       "7   243003          skquinn   60580\n",
       "8   672878         TexasNHD   47051\n",
       "9  2176227          Memoire   46787"
      ]
     },
     "execution_count": 57,
     "metadata": {},
     "output_type": "execute_result"
    }
   ],
   "source": [
    "query=''' SELECT DISTINCT uid, user, COUNT(*) as num\n",
    "FROM (SELECT uid,user FROM new_nodes UNION ALL SELECT uid,user FROM new_ways) \n",
    "GROUP BY user\n",
    "ORDER BY num DESC\n",
    "LIMIT 10;'''\n",
    "\n",
    "sql_to_df(query)\n"
   ]
  },
  {
   "cell_type": "markdown",
   "metadata": {},
   "source": [
    "# Number of unique contributers"
   ]
  },
  {
   "cell_type": "code",
   "execution_count": 43,
   "metadata": {
    "collapsed": false
   },
   "outputs": [
    {
     "name": "stdout",
     "output_type": "stream",
     "text": [
      "1082\n"
     ]
    }
   ],
   "source": [
    "query=''' SELECT DISTINCT uid, user, COUNT(*) as num\n",
    "FROM (SELECT uid,user FROM new_nodes UNION ALL SELECT uid,user FROM new_ways) \n",
    "GROUP BY user\n",
    "ORDER BY num DESC;'''\n",
    "sql_to_df(query)\n",
    "print(len(sql_to_df(query)))"
   ]
  },
  {
   "cell_type": "markdown",
   "metadata": {},
   "source": [
    "# Number of unique contributers contributed only once"
   ]
  },
  {
   "cell_type": "code",
   "execution_count": 58,
   "metadata": {
    "collapsed": false
   },
   "outputs": [
    {
     "data": {
      "text/html": [
       "<div>\n",
       "<table border=\"1\" class=\"dataframe\">\n",
       "  <thead>\n",
       "    <tr style=\"text-align: right;\">\n",
       "      <th></th>\n",
       "      <th>contributers_only_once</th>\n",
       "    </tr>\n",
       "  </thead>\n",
       "  <tbody>\n",
       "    <tr>\n",
       "      <th>0</th>\n",
       "      <td>226</td>\n",
       "    </tr>\n",
       "  </tbody>\n",
       "</table>\n",
       "</div>"
      ],
      "text/plain": [
       "   contributers_only_once\n",
       "0                     226"
      ]
     },
     "execution_count": 58,
     "metadata": {},
     "output_type": "execute_result"
    }
   ],
   "source": [
    "query='''SELECT COUNT(*) as contributers_only_once\n",
    "      FROM\n",
    "    ( SELECT DISTINCT uid, user, COUNT(*) as num\n",
    "    FROM (SELECT uid,user FROM new_nodes UNION ALL SELECT uid,user FROM new_ways)  \n",
    "     GROUP BY user\n",
    "     HAVING num=1) '''\n",
    "sql_to_df(query)"
   ]
  },
  {
   "cell_type": "markdown",
   "metadata": {},
   "source": [
    "# Contributers statistics"
   ]
  },
  {
   "cell_type": "markdown",
   "metadata": {},
   "source": [
    "First top 5 contributer contribution (%) 19.248784, 18.133770, 8.423612,    8.151417, 5.483965, 4.453345, 3.435079, 3.079862, 2.392054, 2.37863 and  Combined Contribution of ~ 75.18 %. The remaining ~ 24.82 % is contributed by 1072 contributors. This shows that a significant part of the map was contributed by the top 10 contributors combined.  "
   ]
  },
  {
   "cell_type": "markdown",
   "metadata": {},
   "source": [
    "# Name of cities in greater Houston."
   ]
  },
  {
   "cell_type": "code",
   "execution_count": 75,
   "metadata": {
    "collapsed": false
   },
   "outputs": [
    {
     "name": "stdout",
     "output_type": "stream",
     "text": [
      "The cities in  greater Houston  area are :\n"
     ]
    },
    {
     "data": {
      "text/html": [
       "<div>\n",
       "<table border=\"1\" class=\"dataframe\">\n",
       "  <thead>\n",
       "    <tr style=\"text-align: right;\">\n",
       "      <th></th>\n",
       "      <th>key</th>\n",
       "      <th>value</th>\n",
       "    </tr>\n",
       "  </thead>\n",
       "  <tbody>\n",
       "    <tr>\n",
       "      <th>0</th>\n",
       "      <td>city</td>\n",
       "      <td>Atascocita,Texas,USA</td>\n",
       "    </tr>\n",
       "    <tr>\n",
       "      <th>1</th>\n",
       "      <td>city</td>\n",
       "      <td>Baytown,Texas,USA</td>\n",
       "    </tr>\n",
       "    <tr>\n",
       "      <th>2</th>\n",
       "      <td>city</td>\n",
       "      <td>Bellaire,Texas,USA</td>\n",
       "    </tr>\n",
       "    <tr>\n",
       "      <th>3</th>\n",
       "      <td>city</td>\n",
       "      <td>Channelview,Texas,USA</td>\n",
       "    </tr>\n",
       "    <tr>\n",
       "      <th>4</th>\n",
       "      <td>city</td>\n",
       "      <td>Conroe,Texas,USA</td>\n",
       "    </tr>\n",
       "    <tr>\n",
       "      <th>5</th>\n",
       "      <td>city</td>\n",
       "      <td>Crosby,Texas,USA</td>\n",
       "    </tr>\n",
       "    <tr>\n",
       "      <th>6</th>\n",
       "      <td>city</td>\n",
       "      <td>Cypress,Texas,USA</td>\n",
       "    </tr>\n",
       "    <tr>\n",
       "      <th>7</th>\n",
       "      <td>city</td>\n",
       "      <td>Deer park,Texas,USA</td>\n",
       "    </tr>\n",
       "    <tr>\n",
       "      <th>8</th>\n",
       "      <td>city</td>\n",
       "      <td>Dickenson,Texas,USA</td>\n",
       "    </tr>\n",
       "    <tr>\n",
       "      <th>9</th>\n",
       "      <td>city</td>\n",
       "      <td>Dickinson,Texas,USA</td>\n",
       "    </tr>\n",
       "    <tr>\n",
       "      <th>10</th>\n",
       "      <td>city</td>\n",
       "      <td>Friendswood,Texas,USA</td>\n",
       "    </tr>\n",
       "    <tr>\n",
       "      <th>11</th>\n",
       "      <td>city</td>\n",
       "      <td>Houson,Texas,USA</td>\n",
       "    </tr>\n",
       "    <tr>\n",
       "      <th>12</th>\n",
       "      <td>city</td>\n",
       "      <td>Houston,Texas,USA</td>\n",
       "    </tr>\n",
       "    <tr>\n",
       "      <th>13</th>\n",
       "      <td>city</td>\n",
       "      <td>Humble,Texas,USA</td>\n",
       "    </tr>\n",
       "    <tr>\n",
       "      <th>14</th>\n",
       "      <td>city</td>\n",
       "      <td>Jersey village,Texas,USA</td>\n",
       "    </tr>\n",
       "    <tr>\n",
       "      <th>15</th>\n",
       "      <td>city</td>\n",
       "      <td>Katy,Texas,USA</td>\n",
       "    </tr>\n",
       "    <tr>\n",
       "      <th>16</th>\n",
       "      <td>city</td>\n",
       "      <td>Kingwood,Texas,USA</td>\n",
       "    </tr>\n",
       "    <tr>\n",
       "      <th>17</th>\n",
       "      <td>city</td>\n",
       "      <td>La porte,Texas,USA</td>\n",
       "    </tr>\n",
       "    <tr>\n",
       "      <th>18</th>\n",
       "      <td>city</td>\n",
       "      <td>League city,Texas,USA</td>\n",
       "    </tr>\n",
       "    <tr>\n",
       "      <th>19</th>\n",
       "      <td>city</td>\n",
       "      <td>Little york,Texas,USA</td>\n",
       "    </tr>\n",
       "    <tr>\n",
       "      <th>20</th>\n",
       "      <td>city</td>\n",
       "      <td>Missouri city,Texas,USA</td>\n",
       "    </tr>\n",
       "    <tr>\n",
       "      <th>21</th>\n",
       "      <td>city</td>\n",
       "      <td>Nassau bay,Texas,USA</td>\n",
       "    </tr>\n",
       "    <tr>\n",
       "      <th>22</th>\n",
       "      <td>city</td>\n",
       "      <td>New caney,Texas,USA</td>\n",
       "    </tr>\n",
       "    <tr>\n",
       "      <th>23</th>\n",
       "      <td>city</td>\n",
       "      <td>Pasadena,Texas,USA</td>\n",
       "    </tr>\n",
       "    <tr>\n",
       "      <th>24</th>\n",
       "      <td>city</td>\n",
       "      <td>Pearland,Texas,USA</td>\n",
       "    </tr>\n",
       "    <tr>\n",
       "      <th>25</th>\n",
       "      <td>city</td>\n",
       "      <td>Porter,Texas,USA</td>\n",
       "    </tr>\n",
       "    <tr>\n",
       "      <th>26</th>\n",
       "      <td>city</td>\n",
       "      <td>Richmond,Texas,USA</td>\n",
       "    </tr>\n",
       "    <tr>\n",
       "      <th>27</th>\n",
       "      <td>city</td>\n",
       "      <td>Rosenberg,Texas,USA</td>\n",
       "    </tr>\n",
       "    <tr>\n",
       "      <th>28</th>\n",
       "      <td>city</td>\n",
       "      <td>Seabrook,Texas,USA</td>\n",
       "    </tr>\n",
       "    <tr>\n",
       "      <th>29</th>\n",
       "      <td>city</td>\n",
       "      <td>Shenandoah,Texas,USA</td>\n",
       "    </tr>\n",
       "    <tr>\n",
       "      <th>30</th>\n",
       "      <td>city</td>\n",
       "      <td>Spring,Texas,USA</td>\n",
       "    </tr>\n",
       "    <tr>\n",
       "      <th>31</th>\n",
       "      <td>city</td>\n",
       "      <td>Stafford,Texas,USA</td>\n",
       "    </tr>\n",
       "    <tr>\n",
       "      <th>32</th>\n",
       "      <td>city</td>\n",
       "      <td>Sugar land,Texas,USA</td>\n",
       "    </tr>\n",
       "    <tr>\n",
       "      <th>33</th>\n",
       "      <td>city</td>\n",
       "      <td>Sugarland,Texas,USA</td>\n",
       "    </tr>\n",
       "    <tr>\n",
       "      <th>34</th>\n",
       "      <td>city</td>\n",
       "      <td>The woodlands,Texas,USA</td>\n",
       "    </tr>\n",
       "    <tr>\n",
       "      <th>35</th>\n",
       "      <td>city</td>\n",
       "      <td>Tomball,Texas,USA</td>\n",
       "    </tr>\n",
       "    <tr>\n",
       "      <th>36</th>\n",
       "      <td>city</td>\n",
       "      <td>Waller,Texas,USA</td>\n",
       "    </tr>\n",
       "    <tr>\n",
       "      <th>37</th>\n",
       "      <td>city</td>\n",
       "      <td>Webster,Texas,USA</td>\n",
       "    </tr>\n",
       "    <tr>\n",
       "      <th>38</th>\n",
       "      <td>city</td>\n",
       "      <td>West university place,Texas,USA</td>\n",
       "    </tr>\n",
       "    <tr>\n",
       "      <th>39</th>\n",
       "      <td>city</td>\n",
       "      <td>West university,Texas,USA</td>\n",
       "    </tr>\n",
       "    <tr>\n",
       "      <th>40</th>\n",
       "      <td>city</td>\n",
       "      <td>Woodlands,Texas,USA</td>\n",
       "    </tr>\n",
       "  </tbody>\n",
       "</table>\n",
       "</div>"
      ],
      "text/plain": [
       "     key                            value\n",
       "0   city             Atascocita,Texas,USA\n",
       "1   city                Baytown,Texas,USA\n",
       "2   city               Bellaire,Texas,USA\n",
       "3   city            Channelview,Texas,USA\n",
       "4   city                 Conroe,Texas,USA\n",
       "5   city                 Crosby,Texas,USA\n",
       "6   city                Cypress,Texas,USA\n",
       "7   city              Deer park,Texas,USA\n",
       "8   city              Dickenson,Texas,USA\n",
       "9   city              Dickinson,Texas,USA\n",
       "10  city            Friendswood,Texas,USA\n",
       "11  city                 Houson,Texas,USA\n",
       "12  city                Houston,Texas,USA\n",
       "13  city                 Humble,Texas,USA\n",
       "14  city         Jersey village,Texas,USA\n",
       "15  city                   Katy,Texas,USA\n",
       "16  city               Kingwood,Texas,USA\n",
       "17  city               La porte,Texas,USA\n",
       "18  city            League city,Texas,USA\n",
       "19  city            Little york,Texas,USA\n",
       "20  city          Missouri city,Texas,USA\n",
       "21  city             Nassau bay,Texas,USA\n",
       "22  city              New caney,Texas,USA\n",
       "23  city               Pasadena,Texas,USA\n",
       "24  city               Pearland,Texas,USA\n",
       "25  city                 Porter,Texas,USA\n",
       "26  city               Richmond,Texas,USA\n",
       "27  city              Rosenberg,Texas,USA\n",
       "28  city               Seabrook,Texas,USA\n",
       "29  city             Shenandoah,Texas,USA\n",
       "30  city                 Spring,Texas,USA\n",
       "31  city               Stafford,Texas,USA\n",
       "32  city             Sugar land,Texas,USA\n",
       "33  city              Sugarland,Texas,USA\n",
       "34  city          The woodlands,Texas,USA\n",
       "35  city                Tomball,Texas,USA\n",
       "36  city                 Waller,Texas,USA\n",
       "37  city                Webster,Texas,USA\n",
       "38  city  West university place,Texas,USA\n",
       "39  city        West university,Texas,USA\n",
       "40  city              Woodlands,Texas,USA"
      ]
     },
     "execution_count": 75,
     "metadata": {},
     "output_type": "execute_result"
    }
   ],
   "source": [
    "query='''SELECT DISTINCT key, value FROM cleaned_nodetags WHERE key=\"city\" union \n",
    "SELECT DISTINCT key, value FROM cleaned_waytags WHERE key=\"city\";'''\n",
    "print \"The cities in  greater Houston  area are :\"\n",
    "sql_to_df(query)\n"
   ]
  },
  {
   "cell_type": "markdown",
   "metadata": {},
   "source": [
    "From the above result, we can see that some cities are repeated due to the non unique representation in the open street map data. These include;\n",
    "1. Houson,Texas,USA and Houston,Texas,USA  \n",
    "2. Woodlands,Texas,USA and The woodlands,Texas,USA \n",
    "3. West university place,Texas,USA and West university,Texas,USA\n",
    "4. Dickinson,Texas,USA and Dickenson,Texas,USA\n",
    "5. Sugar land,Texas,USA and Sugarland,Texas,USA\n"
   ]
  },
  {
   "cell_type": "markdown",
   "metadata": {},
   "source": [
    "# Name of counties"
   ]
  },
  {
   "cell_type": "code",
   "execution_count": 15,
   "metadata": {
    "collapsed": false,
    "scrolled": false
   },
   "outputs": [
    {
     "name": "stdout",
     "output_type": "stream",
     "text": [
      "The counties included in the data are :\n"
     ]
    },
    {
     "data": {
      "text/html": [
       "<div>\n",
       "<table border=\"1\" class=\"dataframe\">\n",
       "  <thead>\n",
       "    <tr style=\"text-align: right;\">\n",
       "      <th></th>\n",
       "      <th>key</th>\n",
       "      <th>value</th>\n",
       "    </tr>\n",
       "  </thead>\n",
       "  <tbody>\n",
       "    <tr>\n",
       "      <th>0</th>\n",
       "      <td>county</td>\n",
       "      <td>Harris, TX</td>\n",
       "    </tr>\n",
       "    <tr>\n",
       "      <th>1</th>\n",
       "      <td>county</td>\n",
       "      <td>Harris, TX:Liberty, TX</td>\n",
       "    </tr>\n",
       "    <tr>\n",
       "      <th>2</th>\n",
       "      <td>county</td>\n",
       "      <td>Harris, TX; Fort Bend, TX</td>\n",
       "    </tr>\n",
       "    <tr>\n",
       "      <th>3</th>\n",
       "      <td>county_name</td>\n",
       "      <td>Brazoria</td>\n",
       "    </tr>\n",
       "    <tr>\n",
       "      <th>4</th>\n",
       "      <td>county_name</td>\n",
       "      <td>Camp</td>\n",
       "    </tr>\n",
       "    <tr>\n",
       "      <th>5</th>\n",
       "      <td>county_name</td>\n",
       "      <td>Chambers</td>\n",
       "    </tr>\n",
       "    <tr>\n",
       "      <th>6</th>\n",
       "      <td>county_name</td>\n",
       "      <td>Fort Bend</td>\n",
       "    </tr>\n",
       "    <tr>\n",
       "      <th>7</th>\n",
       "      <td>county_name</td>\n",
       "      <td>Galveston</td>\n",
       "    </tr>\n",
       "    <tr>\n",
       "      <th>8</th>\n",
       "      <td>county_name</td>\n",
       "      <td>Harris</td>\n",
       "    </tr>\n",
       "    <tr>\n",
       "      <th>9</th>\n",
       "      <td>county_name</td>\n",
       "      <td>Houston</td>\n",
       "    </tr>\n",
       "    <tr>\n",
       "      <th>10</th>\n",
       "      <td>county_name</td>\n",
       "      <td>Liberty</td>\n",
       "    </tr>\n",
       "    <tr>\n",
       "      <th>11</th>\n",
       "      <td>county_name</td>\n",
       "      <td>Montgomery</td>\n",
       "    </tr>\n",
       "    <tr>\n",
       "      <th>12</th>\n",
       "      <td>county_name</td>\n",
       "      <td>Waller</td>\n",
       "    </tr>\n",
       "  </tbody>\n",
       "</table>\n",
       "</div>"
      ],
      "text/plain": [
       "            key                      value\n",
       "0        county                 Harris, TX\n",
       "1        county     Harris, TX:Liberty, TX\n",
       "2        county  Harris, TX; Fort Bend, TX\n",
       "3   county_name                   Brazoria\n",
       "4   county_name                       Camp\n",
       "5   county_name                   Chambers\n",
       "6   county_name                  Fort Bend\n",
       "7   county_name                  Galveston\n",
       "8   county_name                     Harris\n",
       "9   county_name                    Houston\n",
       "10  county_name                    Liberty\n",
       "11  county_name                 Montgomery\n",
       "12  county_name                     Waller"
      ]
     },
     "execution_count": 15,
     "metadata": {},
     "output_type": "execute_result"
    }
   ],
   "source": [
    "query='''SELECT DISTINCT key, value FROM cleaned_nodetags WHERE key=\"county_name\" union \n",
    "SELECT DISTINCT key, value FROM cleaned_waytags WHERE key=\"county\";'''\n",
    "print \"The counties included in the data are :\"\n",
    "sql_to_df(query)\n",
    "\n"
   ]
  },
  {
   "cell_type": "markdown",
   "metadata": {},
   "source": [
    "The Above result also shows the countys in the open street map data were written in a non uniform way"
   ]
  },
  {
   "cell_type": "markdown",
   "metadata": {},
   "source": [
    "# Top 10 ammenities "
   ]
  },
  {
   "cell_type": "code",
   "execution_count": 65,
   "metadata": {
    "collapsed": false,
    "scrolled": false
   },
   "outputs": [
    {
     "data": {
      "text/html": [
       "<div>\n",
       "<table border=\"1\" class=\"dataframe\">\n",
       "  <thead>\n",
       "    <tr style=\"text-align: right;\">\n",
       "      <th></th>\n",
       "      <th>key</th>\n",
       "      <th>value</th>\n",
       "      <th>number</th>\n",
       "    </tr>\n",
       "  </thead>\n",
       "  <tbody>\n",
       "    <tr>\n",
       "      <th>0</th>\n",
       "      <td>amenity</td>\n",
       "      <td>place_of_worship</td>\n",
       "      <td>1877</td>\n",
       "    </tr>\n",
       "    <tr>\n",
       "      <th>1</th>\n",
       "      <td>amenity</td>\n",
       "      <td>school</td>\n",
       "      <td>792</td>\n",
       "    </tr>\n",
       "    <tr>\n",
       "      <th>2</th>\n",
       "      <td>amenity</td>\n",
       "      <td>fountain</td>\n",
       "      <td>657</td>\n",
       "    </tr>\n",
       "    <tr>\n",
       "      <th>3</th>\n",
       "      <td>amenity</td>\n",
       "      <td>restaurant</td>\n",
       "      <td>607</td>\n",
       "    </tr>\n",
       "    <tr>\n",
       "      <th>4</th>\n",
       "      <td>amenity</td>\n",
       "      <td>fast_food</td>\n",
       "      <td>534</td>\n",
       "    </tr>\n",
       "    <tr>\n",
       "      <th>5</th>\n",
       "      <td>amenity</td>\n",
       "      <td>fire_station</td>\n",
       "      <td>265</td>\n",
       "    </tr>\n",
       "    <tr>\n",
       "      <th>6</th>\n",
       "      <td>amenity</td>\n",
       "      <td>fuel</td>\n",
       "      <td>226</td>\n",
       "    </tr>\n",
       "    <tr>\n",
       "      <th>7</th>\n",
       "      <td>amenity</td>\n",
       "      <td>pharmacy</td>\n",
       "      <td>157</td>\n",
       "    </tr>\n",
       "    <tr>\n",
       "      <th>8</th>\n",
       "      <td>amenity</td>\n",
       "      <td>bank</td>\n",
       "      <td>153</td>\n",
       "    </tr>\n",
       "    <tr>\n",
       "      <th>9</th>\n",
       "      <td>amenity</td>\n",
       "      <td>bench</td>\n",
       "      <td>126</td>\n",
       "    </tr>\n",
       "  </tbody>\n",
       "</table>\n",
       "</div>"
      ],
      "text/plain": [
       "       key             value  number\n",
       "0  amenity  place_of_worship    1877\n",
       "1  amenity            school     792\n",
       "2  amenity          fountain     657\n",
       "3  amenity        restaurant     607\n",
       "4  amenity         fast_food     534\n",
       "5  amenity      fire_station     265\n",
       "6  amenity              fuel     226\n",
       "7  amenity          pharmacy     157\n",
       "8  amenity              bank     153\n",
       "9  amenity             bench     126"
      ]
     },
     "execution_count": 65,
     "metadata": {},
     "output_type": "execute_result"
    }
   ],
   "source": [
    "query='''SELECT DISTINCT key, value,count(*) AS number FROM cleaned_nodetags WHERE \n",
    "key=\"amenity\" GROUP BY value \n",
    "UNION ALL\n",
    "SELECT DISTINCT key, value,count(*) AS number FROM cleaned_waytags WHERE \n",
    "key=\"amenity\" GROUP BY value ORDER BY number DESC LIMIT 10;'''\n",
    "\n",
    "sql_to_df(query)"
   ]
  },
  {
   "cell_type": "code",
   "execution_count": 18,
   "metadata": {
    "collapsed": false
   },
   "outputs": [],
   "source": [
    "#query='''SELECT DISTINCT id, key, value,count(*) AS number FROM cleaned_nodetags  \n",
    "#WHERE key='feature_type' GROUP BY value ORDER BY number DESC LIMIT 100\n",
    "#;'''\n",
    "#print \"The number of amenities in Harris County are :\"\n",
    "#sql_to_df(query)"
   ]
  },
  {
   "cell_type": "markdown",
   "metadata": {},
   "source": [
    "# Top 5 Leisure Places"
   ]
  },
  {
   "cell_type": "code",
   "execution_count": 66,
   "metadata": {
    "collapsed": false,
    "scrolled": true
   },
   "outputs": [
    {
     "name": "stdout",
     "output_type": "stream",
     "text": [
      "The 5 most common leisures :\n"
     ]
    },
    {
     "data": {
      "text/html": [
       "<div>\n",
       "<table border=\"1\" class=\"dataframe\">\n",
       "  <thead>\n",
       "    <tr style=\"text-align: right;\">\n",
       "      <th></th>\n",
       "      <th>id</th>\n",
       "      <th>key</th>\n",
       "      <th>value</th>\n",
       "      <th>number</th>\n",
       "    </tr>\n",
       "  </thead>\n",
       "  <tbody>\n",
       "    <tr>\n",
       "      <th>0</th>\n",
       "      <td>4251825278</td>\n",
       "      <td>leisure</td>\n",
       "      <td>park</td>\n",
       "      <td>186</td>\n",
       "    </tr>\n",
       "    <tr>\n",
       "      <th>1</th>\n",
       "      <td>4470575628</td>\n",
       "      <td>leisure</td>\n",
       "      <td>picnic_table</td>\n",
       "      <td>48</td>\n",
       "    </tr>\n",
       "    <tr>\n",
       "      <th>2</th>\n",
       "      <td>4494039339</td>\n",
       "      <td>leisure</td>\n",
       "      <td>slipway</td>\n",
       "      <td>27</td>\n",
       "    </tr>\n",
       "    <tr>\n",
       "      <th>3</th>\n",
       "      <td>4289031161</td>\n",
       "      <td>leisure</td>\n",
       "      <td>playground</td>\n",
       "      <td>26</td>\n",
       "    </tr>\n",
       "    <tr>\n",
       "      <th>4</th>\n",
       "      <td>4414027268</td>\n",
       "      <td>leisure</td>\n",
       "      <td>sports_centre</td>\n",
       "      <td>25</td>\n",
       "    </tr>\n",
       "  </tbody>\n",
       "</table>\n",
       "</div>"
      ],
      "text/plain": [
       "           id      key          value  number\n",
       "0  4251825278  leisure           park     186\n",
       "1  4470575628  leisure   picnic_table      48\n",
       "2  4494039339  leisure        slipway      27\n",
       "3  4289031161  leisure     playground      26\n",
       "4  4414027268  leisure  sports_centre      25"
      ]
     },
     "execution_count": 66,
     "metadata": {},
     "output_type": "execute_result"
    }
   ],
   "source": [
    "query=''' SELECT DISTINCT id,key, value,count(*) as number FROM cleaned_nodetags WHERE \n",
    "key=\"leisure\" GROUP BY value \n",
    "UNION ALL\n",
    "SELECT DISTINCT id,key, value,count(*) as number FROM cleaned_waytags WHERE \n",
    "key=\"leisure\" GROUP BY value\n",
    "ORDER BY number DESC LIMIT 5;'''\n",
    "print \"The 5 most common leisures :\"\n",
    "sql_to_df(query)"
   ]
  },
  {
   "cell_type": "code",
   "execution_count": 20,
   "metadata": {
    "collapsed": false
   },
   "outputs": [],
   "source": [
    "#query=''' SELECT DISTINCT id,key, value,count(*) as number FROM cleaned_nodetags WHERE \n",
    "#key=\"waterway\" GROUP BY value ORDER BY number DESC LIMIT 10;'''\n",
    "#print \"The 10 most tourism  are :\"\n",
    "#sql_to_df(query)\n"
   ]
  },
  {
   "cell_type": "markdown",
   "metadata": {},
   "source": [
    "# Population of Cities and Villages In Greater Houston area based on 2006 census "
   ]
  },
  {
   "cell_type": "code",
   "execution_count": 68,
   "metadata": {
    "collapsed": false
   },
   "outputs": [
    {
     "data": {
      "text/plain": [
       "array([  27526178,  151335482,  151336611,  151336814,  151339751,\n",
       "        151352050,  151356757,  151364363,  151366400,  151370505,\n",
       "        151378972,  151388438,  151413262,  151418385,  151432146,\n",
       "        151449285,  151449547,  151453168,  151459173,  151469708,\n",
       "        151487687,  151488459,  151492991,  151516758,  151520770,\n",
       "        151524671,  151556974,  151559999,  151565543,  151633490,\n",
       "        151658563,  151661012,  151679582,  151699317,  151725826,\n",
       "        151742429,  151755512,  151807948,  151830242,  151830706,\n",
       "        151841886,  151853310,  151853324,  151859424,  151872763,\n",
       "        151882112,  151903369,  151912936,  151960564, 1302494067,\n",
       "       2336724814, 3811458395])"
      ]
     },
     "execution_count": 68,
     "metadata": {},
     "output_type": "execute_result"
    }
   ],
   "source": [
    "\n",
    "query='''SELECT DISTINCT(id),key, value FROM cleaned_nodetags WHERE key =\"population\" GROUP BY id\n",
    "UNION SELECT DISTINCT(id),key, value FROM cleaned_waytags WHERE key =\"population\" GROUP BY id ; '''\n",
    "df=sql_to_df(query)\n",
    "\n",
    "dff=(df['id']).unique()#.stack().to_frame().T\n",
    "dff"
   ]
  },
  {
   "cell_type": "code",
   "execution_count": 73,
   "metadata": {
    "collapsed": false,
    "scrolled": false
   },
   "outputs": [
    {
     "data": {
      "text/html": [
       "<div>\n",
       "<table border=\"1\" class=\"dataframe\">\n",
       "  <thead>\n",
       "    <tr style=\"text-align: right;\">\n",
       "      <th></th>\n",
       "      <th>id</th>\n",
       "      <th>Kind</th>\n",
       "      <th>Population</th>\n",
       "      <th>Type</th>\n",
       "      <th>City Name</th>\n",
       "      <th>City</th>\n",
       "      <th>Type2</th>\n",
       "    </tr>\n",
       "  </thead>\n",
       "  <tbody>\n",
       "    <tr>\n",
       "      <th>28</th>\n",
       "      <td>151449285</td>\n",
       "      <td>population</td>\n",
       "      <td>315</td>\n",
       "      <td>regular</td>\n",
       "      <td>name</td>\n",
       "      <td>Thompsons</td>\n",
       "      <td>regular</td>\n",
       "    </tr>\n",
       "    <tr>\n",
       "      <th>13</th>\n",
       "      <td>151364363</td>\n",
       "      <td>population</td>\n",
       "      <td>489</td>\n",
       "      <td>regular</td>\n",
       "      <td>name</td>\n",
       "      <td>Orchard</td>\n",
       "      <td>regular</td>\n",
       "    </tr>\n",
       "    <tr>\n",
       "      <th>61</th>\n",
       "      <td>151679582</td>\n",
       "      <td>population</td>\n",
       "      <td>517</td>\n",
       "      <td>regular</td>\n",
       "      <td>name</td>\n",
       "      <td>Stagecoach</td>\n",
       "      <td>regular</td>\n",
       "    </tr>\n",
       "    <tr>\n",
       "      <th>57</th>\n",
       "      <td>151658563</td>\n",
       "      <td>population</td>\n",
       "      <td>693</td>\n",
       "      <td>regular</td>\n",
       "      <td>name</td>\n",
       "      <td>Beasley</td>\n",
       "      <td>regular</td>\n",
       "    </tr>\n",
       "    <tr>\n",
       "      <th>69</th>\n",
       "      <td>151807948</td>\n",
       "      <td>population</td>\n",
       "      <td>727</td>\n",
       "      <td>regular</td>\n",
       "      <td>name</td>\n",
       "      <td>Hilshire Village</td>\n",
       "      <td>regular</td>\n",
       "    </tr>\n",
       "  </tbody>\n",
       "</table>\n",
       "</div>"
      ],
      "text/plain": [
       "           id        Kind  Population     Type City Name              City  \\\n",
       "28  151449285  population         315  regular      name         Thompsons   \n",
       "13  151364363  population         489  regular      name           Orchard   \n",
       "61  151679582  population         517  regular      name        Stagecoach   \n",
       "57  151658563  population         693  regular      name           Beasley   \n",
       "69  151807948  population         727  regular      name  Hilshire Village   \n",
       "\n",
       "      Type2  \n",
       "28  regular  \n",
       "13  regular  \n",
       "61  regular  \n",
       "57  regular  \n",
       "69  regular  "
      ]
     },
     "execution_count": 73,
     "metadata": {},
     "output_type": "execute_result"
    }
   ],
   "source": [
    "query=''' SELECT * FROM cleaned_nodetags WHERE id IN \n",
    "(27526178,  151335482,  151336611,  151336814,  151339751,\n",
    "        151352050,  151356757,  151364363,  151366400,  151370505,\n",
    "        151378972,  151388438,  151413262,  151418385,  151432146,\n",
    "        151449285,  151449547,  151453168,  151459173,  151469708,\n",
    "        151487687,  151488459,  151492991,  151516758,  151520770,\n",
    "        151524671,  151556974,  151559999,  151565543,  151633490,\n",
    "        151658563,  151661012,  151679582,  151699317,  151725826,\n",
    "        151742429,  151755512,  151807948,  151830242,  151830706,\n",
    "        151841886,  151853310,  151853324,  151859424,  151872763,\n",
    "        151882112,  151903369,  151912936,  151960564, 1302494067,\n",
    "       2336724814, 3811458395) AND (key ='name' OR key='population') ;'''\n",
    "df=sql_to_df(query)\n",
    "#df.pivot(index='id', columns='key', values='value')\n",
    "#print df\n",
    "#dff=df.groupby(id)\n",
    "df1=df[df.key=='population']\n",
    "df2=df[df.key=='name']\n",
    "df3=pd.merge(df1, df2, on='id')\n",
    "\n",
    "df3.columns=['id','Kind', 'Population', 'Type','City Name','City','Type2']\n",
    "df3=df3[df3.Type=='regular']\n",
    "df3.Population=df3['Population'].astype(int)\n",
    "df3.sort_values(['Population'],ascending=True).head()\n",
    "#df3[['id','City','Population' ]]\n",
    "\n"
   ]
  },
  {
   "cell_type": "markdown",
   "metadata": {},
   "source": [
    "# 10 Most Populous Cities or Villages in Greater Houston Area"
   ]
  },
  {
   "cell_type": "code",
   "execution_count": 75,
   "metadata": {
    "collapsed": false
   },
   "outputs": [
    {
     "data": {
      "text/html": [
       "<div>\n",
       "<table border=\"1\" class=\"dataframe\">\n",
       "  <thead>\n",
       "    <tr style=\"text-align: right;\">\n",
       "      <th></th>\n",
       "      <th>id</th>\n",
       "      <th>City</th>\n",
       "      <th>Population</th>\n",
       "    </tr>\n",
       "  </thead>\n",
       "  <tbody>\n",
       "    <tr>\n",
       "      <th>1</th>\n",
       "      <td>151335482</td>\n",
       "      <td>Pasadena</td>\n",
       "      <td>144793</td>\n",
       "    </tr>\n",
       "    <tr>\n",
       "      <th>90</th>\n",
       "      <td>1302494067</td>\n",
       "      <td>The Woodlands</td>\n",
       "      <td>93847</td>\n",
       "    </tr>\n",
       "    <tr>\n",
       "      <th>67</th>\n",
       "      <td>151755512</td>\n",
       "      <td>Pearland</td>\n",
       "      <td>91000</td>\n",
       "    </tr>\n",
       "    <tr>\n",
       "      <th>77</th>\n",
       "      <td>151853324</td>\n",
       "      <td>League City</td>\n",
       "      <td>83560</td>\n",
       "    </tr>\n",
       "    <tr>\n",
       "      <th>92</th>\n",
       "      <td>3811458395</td>\n",
       "      <td>Kingwood</td>\n",
       "      <td>81692</td>\n",
       "    </tr>\n",
       "    <tr>\n",
       "      <th>22</th>\n",
       "      <td>151413262</td>\n",
       "      <td>Sugar Land</td>\n",
       "      <td>79943</td>\n",
       "    </tr>\n",
       "    <tr>\n",
       "      <th>31</th>\n",
       "      <td>151453168</td>\n",
       "      <td>Baytown</td>\n",
       "      <td>75418</td>\n",
       "    </tr>\n",
       "    <tr>\n",
       "      <th>20</th>\n",
       "      <td>151388438</td>\n",
       "      <td>Spring</td>\n",
       "      <td>54298</td>\n",
       "    </tr>\n",
       "    <tr>\n",
       "      <th>70</th>\n",
       "      <td>151830242</td>\n",
       "      <td>Friendswood</td>\n",
       "      <td>37587</td>\n",
       "    </tr>\n",
       "    <tr>\n",
       "      <th>53</th>\n",
       "      <td>151565543</td>\n",
       "      <td>La Porte</td>\n",
       "      <td>33886</td>\n",
       "    </tr>\n",
       "  </tbody>\n",
       "</table>\n",
       "</div>"
      ],
      "text/plain": [
       "            id           City  Population\n",
       "1    151335482       Pasadena      144793\n",
       "90  1302494067  The Woodlands       93847\n",
       "67   151755512       Pearland       91000\n",
       "77   151853324    League City       83560\n",
       "92  3811458395       Kingwood       81692\n",
       "22   151413262     Sugar Land       79943\n",
       "31   151453168        Baytown       75418\n",
       "20   151388438         Spring       54298\n",
       "70   151830242    Friendswood       37587\n",
       "53   151565543       La Porte       33886"
      ]
     },
     "execution_count": 75,
     "metadata": {},
     "output_type": "execute_result"
    }
   ],
   "source": [
    "query=''' SELECT * FROM cleaned_nodetags WHERE id IN \n",
    "(27526178,  151335482,  151336611,  151336814,  151339751,\n",
    "        151352050,  151356757,  151364363,  151366400,  151370505,\n",
    "        151378972,  151388438,  151413262,  151418385,  151432146,\n",
    "        151449285,  151449547,  151453168,  151459173,  151469708,\n",
    "        151487687,  151488459,  151492991,  151516758,  151520770,\n",
    "        151524671,  151556974,  151559999,  151565543,  151633490,\n",
    "        151658563,  151661012,  151679582,  151699317,  151725826,\n",
    "        151742429,  151755512,  151807948,  151830242,  151830706,\n",
    "        151841886,  151853310,  151853324,  151859424,  151872763,\n",
    "        151882112,  151903369,  151912936,  151960564, 1302494067,\n",
    "       2336724814, 3811458395) AND (key ='name' OR key='population') ;'''\n",
    "df=sql_to_df(query)\n",
    "df1=df[df.key=='population']\n",
    "df2=df[df.key=='name']\n",
    "df3=pd.merge(df1, df2, on='id')\n",
    "df3.columns=['id','Kind', 'Population', 'Type','City Name','City','Type2']\n",
    "df3=df3[df3.Type=='regular']\n",
    "df3.Population=df3['Population'].astype(int)\n",
    "df3[['id','City','Population' ]].sort_values(by='Population',ascending=0)[:10]\n",
    "\n"
   ]
  },
  {
   "cell_type": "code",
   "execution_count": 82,
   "metadata": {
    "collapsed": false
   },
   "outputs": [],
   "source": [
    "\n",
    "#sns.barplot(x=\"City\", y=\"Population\",  data=df3);"
   ]
  },
  {
   "cell_type": "markdown",
   "metadata": {},
   "source": [
    "$\\textbf{The Most Populous city in the greater Houston  area is $\\textit{Pasadena}$ and the second populous is $\\textit{The Woodlands}$}$"
   ]
  },
  {
   "cell_type": "markdown",
   "metadata": {},
   "source": [
    "# 5 Least Populated Places in the greater Houston area according to 2006 census"
   ]
  },
  {
   "cell_type": "code",
   "execution_count": 24,
   "metadata": {
    "collapsed": false
   },
   "outputs": [
    {
     "data": {
      "text/html": [
       "<div>\n",
       "<table border=\"1\" class=\"dataframe\">\n",
       "  <thead>\n",
       "    <tr style=\"text-align: right;\">\n",
       "      <th></th>\n",
       "      <th>id</th>\n",
       "      <th>City</th>\n",
       "      <th>Population</th>\n",
       "    </tr>\n",
       "  </thead>\n",
       "  <tbody>\n",
       "    <tr>\n",
       "      <th>69</th>\n",
       "      <td>151807948</td>\n",
       "      <td>Hilshire Village</td>\n",
       "      <td>727</td>\n",
       "    </tr>\n",
       "    <tr>\n",
       "      <th>57</th>\n",
       "      <td>151658563</td>\n",
       "      <td>Beasley</td>\n",
       "      <td>693</td>\n",
       "    </tr>\n",
       "    <tr>\n",
       "      <th>61</th>\n",
       "      <td>151679582</td>\n",
       "      <td>Stagecoach</td>\n",
       "      <td>517</td>\n",
       "    </tr>\n",
       "    <tr>\n",
       "      <th>13</th>\n",
       "      <td>151364363</td>\n",
       "      <td>Orchard</td>\n",
       "      <td>489</td>\n",
       "    </tr>\n",
       "    <tr>\n",
       "      <th>28</th>\n",
       "      <td>151449285</td>\n",
       "      <td>Thompsons</td>\n",
       "      <td>315</td>\n",
       "    </tr>\n",
       "  </tbody>\n",
       "</table>\n",
       "</div>"
      ],
      "text/plain": [
       "           id              City  Population\n",
       "69  151807948  Hilshire Village         727\n",
       "57  151658563           Beasley         693\n",
       "61  151679582        Stagecoach         517\n",
       "13  151364363           Orchard         489\n",
       "28  151449285         Thompsons         315"
      ]
     },
     "execution_count": 24,
     "metadata": {},
     "output_type": "execute_result"
    }
   ],
   "source": [
    "df3[['id','City','Population' ]].sort_values(by='Population',ascending=0).tail()"
   ]
  },
  {
   "cell_type": "markdown",
   "metadata": {},
   "source": [
    "# 5 Most Popular religions"
   ]
  },
  {
   "cell_type": "code",
   "execution_count": 76,
   "metadata": {
    "collapsed": false
   },
   "outputs": [
    {
     "data": {
      "text/html": [
       "<div>\n",
       "<table border=\"1\" class=\"dataframe\">\n",
       "  <thead>\n",
       "    <tr style=\"text-align: right;\">\n",
       "      <th></th>\n",
       "      <th>id</th>\n",
       "      <th>key</th>\n",
       "      <th>value</th>\n",
       "      <th>type</th>\n",
       "      <th>num</th>\n",
       "    </tr>\n",
       "  </thead>\n",
       "  <tbody>\n",
       "    <tr>\n",
       "      <th>0</th>\n",
       "      <td>4442593176</td>\n",
       "      <td>religion</td>\n",
       "      <td>christian</td>\n",
       "      <td>regular</td>\n",
       "      <td>1820</td>\n",
       "    </tr>\n",
       "    <tr>\n",
       "      <th>1</th>\n",
       "      <td>356866689</td>\n",
       "      <td>religion</td>\n",
       "      <td>buddhist</td>\n",
       "      <td>regular</td>\n",
       "      <td>14</td>\n",
       "    </tr>\n",
       "    <tr>\n",
       "      <th>2</th>\n",
       "      <td>3857010081</td>\n",
       "      <td>religion</td>\n",
       "      <td>jewish</td>\n",
       "      <td>regular</td>\n",
       "      <td>10</td>\n",
       "    </tr>\n",
       "    <tr>\n",
       "      <th>3</th>\n",
       "      <td>4214577163</td>\n",
       "      <td>religion</td>\n",
       "      <td>muslim</td>\n",
       "      <td>regular</td>\n",
       "      <td>9</td>\n",
       "    </tr>\n",
       "    <tr>\n",
       "      <th>4</th>\n",
       "      <td>356866022</td>\n",
       "      <td>religion</td>\n",
       "      <td>unitarian_universalist</td>\n",
       "      <td>regular</td>\n",
       "      <td>4</td>\n",
       "    </tr>\n",
       "  </tbody>\n",
       "</table>\n",
       "</div>"
      ],
      "text/plain": [
       "           id       key                   value     type   num\n",
       "0  4442593176  religion               christian  regular  1820\n",
       "1   356866689  religion                buddhist  regular    14\n",
       "2  3857010081  religion                  jewish  regular    10\n",
       "3  4214577163  religion                  muslim  regular     9\n",
       "4   356866022  religion  unitarian_universalist  regular     4"
      ]
     },
     "execution_count": 76,
     "metadata": {},
     "output_type": "execute_result"
    }
   ],
   "source": [
    "query='''SELECT DISTINCT *, count(value) as num\n",
    "    FROM cleaned_nodetags \n",
    "    WHERE  key='religion' GROUP BY value\n",
    "    UNION ALL\n",
    "    SELECT DISTINCT *, count(value) as num\n",
    "    FROM cleaned_waytags \n",
    "    WHERE  key='religion' GROUP BY value\n",
    "    ORDER BY num DESC LIMIT 5;'''\n",
    "sql_to_df(query)"
   ]
  },
  {
   "cell_type": "markdown",
   "metadata": {},
   "source": [
    "$\\textbf{Christian is by far the most popular religion}$ "
   ]
  },
  {
   "cell_type": "markdown",
   "metadata": {},
   "source": [
    "# 10 Most Popular Chrstian Religions by denomination"
   ]
  },
  {
   "cell_type": "code",
   "execution_count": 79,
   "metadata": {
    "collapsed": false
   },
   "outputs": [
    {
     "data": {
      "text/html": [
       "<div>\n",
       "<table border=\"1\" class=\"dataframe\">\n",
       "  <thead>\n",
       "    <tr style=\"text-align: right;\">\n",
       "      <th></th>\n",
       "      <th>id</th>\n",
       "      <th>key</th>\n",
       "      <th>value</th>\n",
       "      <th>type</th>\n",
       "      <th>num</th>\n",
       "    </tr>\n",
       "  </thead>\n",
       "  <tbody>\n",
       "    <tr>\n",
       "      <th>0</th>\n",
       "      <td>4026885902</td>\n",
       "      <td>denomination</td>\n",
       "      <td>baptist</td>\n",
       "      <td>regular</td>\n",
       "      <td>820</td>\n",
       "    </tr>\n",
       "    <tr>\n",
       "      <th>1</th>\n",
       "      <td>3380048293</td>\n",
       "      <td>denomination</td>\n",
       "      <td>methodist</td>\n",
       "      <td>regular</td>\n",
       "      <td>126</td>\n",
       "    </tr>\n",
       "    <tr>\n",
       "      <th>2</th>\n",
       "      <td>4306416599</td>\n",
       "      <td>denomination</td>\n",
       "      <td>pentecostal</td>\n",
       "      <td>regular</td>\n",
       "      <td>91</td>\n",
       "    </tr>\n",
       "    <tr>\n",
       "      <th>3</th>\n",
       "      <td>4309418044</td>\n",
       "      <td>denomination</td>\n",
       "      <td>lutheran</td>\n",
       "      <td>regular</td>\n",
       "      <td>69</td>\n",
       "    </tr>\n",
       "    <tr>\n",
       "      <th>4</th>\n",
       "      <td>356866648</td>\n",
       "      <td>denomination</td>\n",
       "      <td>catholic</td>\n",
       "      <td>regular</td>\n",
       "      <td>61</td>\n",
       "    </tr>\n",
       "  </tbody>\n",
       "</table>\n",
       "</div>"
      ],
      "text/plain": [
       "           id           key        value     type  num\n",
       "0  4026885902  denomination      baptist  regular  820\n",
       "1  3380048293  denomination    methodist  regular  126\n",
       "2  4306416599  denomination  pentecostal  regular   91\n",
       "3  4309418044  denomination     lutheran  regular   69\n",
       "4   356866648  denomination     catholic  regular   61"
      ]
     },
     "execution_count": 79,
     "metadata": {},
     "output_type": "execute_result"
    }
   ],
   "source": [
    "query='''SELECT DISTINCT *, count(value) as num\n",
    "    FROM cleaned_nodetags \n",
    "    WHERE  key='denomination' GROUP BY value \n",
    "    UNION ALL\n",
    "    SELECT DISTINCT *, count(value) as num\n",
    "    FROM cleaned_waytags \n",
    "    WHERE  key='denomination' GROUP BY value\n",
    "    ORDER BY num DESC LIMIT 5;'''\n",
    "sql_to_df(query)\n",
    "sql_to_df(query)"
   ]
  },
  {
   "cell_type": "markdown",
   "metadata": {},
   "source": [
    "$\\textit{Baptist Christian is the most popular from Christian religion}$"
   ]
  },
  {
   "cell_type": "markdown",
   "metadata": {},
   "source": [
    "# 10 Popular Cuisines "
   ]
  },
  {
   "cell_type": "code",
   "execution_count": 80,
   "metadata": {
    "collapsed": false
   },
   "outputs": [
    {
     "data": {
      "text/html": [
       "<div>\n",
       "<table border=\"1\" class=\"dataframe\">\n",
       "  <thead>\n",
       "    <tr style=\"text-align: right;\">\n",
       "      <th></th>\n",
       "      <th>id</th>\n",
       "      <th>key</th>\n",
       "      <th>value</th>\n",
       "      <th>type</th>\n",
       "      <th>num</th>\n",
       "    </tr>\n",
       "  </thead>\n",
       "  <tbody>\n",
       "    <tr>\n",
       "      <th>0</th>\n",
       "      <td>4469127878</td>\n",
       "      <td>cuisine</td>\n",
       "      <td>burger</td>\n",
       "      <td>regular</td>\n",
       "      <td>168</td>\n",
       "    </tr>\n",
       "    <tr>\n",
       "      <th>1</th>\n",
       "      <td>4509228265</td>\n",
       "      <td>cuisine</td>\n",
       "      <td>sandwich</td>\n",
       "      <td>regular</td>\n",
       "      <td>108</td>\n",
       "    </tr>\n",
       "    <tr>\n",
       "      <th>2</th>\n",
       "      <td>4504777180</td>\n",
       "      <td>cuisine</td>\n",
       "      <td>mexican</td>\n",
       "      <td>regular</td>\n",
       "      <td>100</td>\n",
       "    </tr>\n",
       "    <tr>\n",
       "      <th>3</th>\n",
       "      <td>4509228262</td>\n",
       "      <td>cuisine</td>\n",
       "      <td>pizza</td>\n",
       "      <td>regular</td>\n",
       "      <td>65</td>\n",
       "    </tr>\n",
       "    <tr>\n",
       "      <th>4</th>\n",
       "      <td>4451815138</td>\n",
       "      <td>cuisine</td>\n",
       "      <td>chicken</td>\n",
       "      <td>regular</td>\n",
       "      <td>53</td>\n",
       "    </tr>\n",
       "    <tr>\n",
       "      <th>5</th>\n",
       "      <td>4446394698</td>\n",
       "      <td>cuisine</td>\n",
       "      <td>coffee_shop</td>\n",
       "      <td>regular</td>\n",
       "      <td>40</td>\n",
       "    </tr>\n",
       "    <tr>\n",
       "      <th>6</th>\n",
       "      <td>4468775199</td>\n",
       "      <td>cuisine</td>\n",
       "      <td>american</td>\n",
       "      <td>regular</td>\n",
       "      <td>35</td>\n",
       "    </tr>\n",
       "    <tr>\n",
       "      <th>7</th>\n",
       "      <td>4468726393</td>\n",
       "      <td>cuisine</td>\n",
       "      <td>italian</td>\n",
       "      <td>regular</td>\n",
       "      <td>32</td>\n",
       "    </tr>\n",
       "    <tr>\n",
       "      <th>8</th>\n",
       "      <td>4439886289</td>\n",
       "      <td>cuisine</td>\n",
       "      <td>chinese</td>\n",
       "      <td>regular</td>\n",
       "      <td>29</td>\n",
       "    </tr>\n",
       "    <tr>\n",
       "      <th>9</th>\n",
       "      <td>4469127881</td>\n",
       "      <td>cuisine</td>\n",
       "      <td>ice_cream</td>\n",
       "      <td>regular</td>\n",
       "      <td>15</td>\n",
       "    </tr>\n",
       "  </tbody>\n",
       "</table>\n",
       "</div>"
      ],
      "text/plain": [
       "           id      key        value     type  num\n",
       "0  4469127878  cuisine       burger  regular  168\n",
       "1  4509228265  cuisine     sandwich  regular  108\n",
       "2  4504777180  cuisine      mexican  regular  100\n",
       "3  4509228262  cuisine        pizza  regular   65\n",
       "4  4451815138  cuisine      chicken  regular   53\n",
       "5  4446394698  cuisine  coffee_shop  regular   40\n",
       "6  4468775199  cuisine     american  regular   35\n",
       "7  4468726393  cuisine      italian  regular   32\n",
       "8  4439886289  cuisine      chinese  regular   29\n",
       "9  4469127881  cuisine    ice_cream  regular   15"
      ]
     },
     "execution_count": 80,
     "metadata": {},
     "output_type": "execute_result"
    }
   ],
   "source": [
    "query='''SELECT DISTINCT *, count(value) as num\n",
    "    FROM cleaned_nodetags \n",
    "    WHERE  key='cuisine'\n",
    " GROUP BY value \n",
    " UNION ALL\n",
    " SELECT DISTINCT *, count(value) as num\n",
    "    FROM cleaned_waytags \n",
    "    WHERE  key='cuisine'\n",
    " GROUP BY value \n",
    " ORDER BY num DESC  LIMIT 10;'''\n",
    "sql_to_df(query)"
   ]
  },
  {
   "cell_type": "code",
   "execution_count": 28,
   "metadata": {
    "collapsed": true
   },
   "outputs": [],
   "source": [
    "# 5 Most Tourism places"
   ]
  },
  {
   "cell_type": "code",
   "execution_count": 29,
   "metadata": {
    "collapsed": false
   },
   "outputs": [],
   "source": [
    "#query='''SELECT DISTINCT *, count(value) as num\n",
    "#    FROM cleaned_nodetags \n",
    "#    WHERE  key='tourism' GROUP BY value ORDER BY num DESC LIMIT 5;'''\n",
    "#sql_to_df(query)\n",
    "\n"
   ]
  },
  {
   "cell_type": "markdown",
   "metadata": {},
   "source": [
    "# 5 Common land uses"
   ]
  },
  {
   "cell_type": "code",
   "execution_count": 81,
   "metadata": {
    "collapsed": false
   },
   "outputs": [
    {
     "data": {
      "text/html": [
       "<div>\n",
       "<table border=\"1\" class=\"dataframe\">\n",
       "  <thead>\n",
       "    <tr style=\"text-align: right;\">\n",
       "      <th></th>\n",
       "      <th>id</th>\n",
       "      <th>key</th>\n",
       "      <th>value</th>\n",
       "      <th>type</th>\n",
       "      <th>num</th>\n",
       "    </tr>\n",
       "  </thead>\n",
       "  <tbody>\n",
       "    <tr>\n",
       "      <th>0</th>\n",
       "      <td>663736294</td>\n",
       "      <td>landuse</td>\n",
       "      <td>industrial</td>\n",
       "      <td>regular</td>\n",
       "      <td>80</td>\n",
       "    </tr>\n",
       "    <tr>\n",
       "      <th>1</th>\n",
       "      <td>356786985</td>\n",
       "      <td>landuse</td>\n",
       "      <td>reservoir</td>\n",
       "      <td>regular</td>\n",
       "      <td>38</td>\n",
       "    </tr>\n",
       "    <tr>\n",
       "      <th>2</th>\n",
       "      <td>1818344910</td>\n",
       "      <td>landuse</td>\n",
       "      <td>quarry</td>\n",
       "      <td>regular</td>\n",
       "      <td>26</td>\n",
       "    </tr>\n",
       "    <tr>\n",
       "      <th>3</th>\n",
       "      <td>2772809623</td>\n",
       "      <td>landuse</td>\n",
       "      <td>retail</td>\n",
       "      <td>regular</td>\n",
       "      <td>5</td>\n",
       "    </tr>\n",
       "    <tr>\n",
       "      <th>4</th>\n",
       "      <td>1143263540</td>\n",
       "      <td>landuse</td>\n",
       "      <td>recreation_ground</td>\n",
       "      <td>regular</td>\n",
       "      <td>3</td>\n",
       "    </tr>\n",
       "  </tbody>\n",
       "</table>\n",
       "</div>"
      ],
      "text/plain": [
       "           id      key              value     type  num\n",
       "0   663736294  landuse         industrial  regular   80\n",
       "1   356786985  landuse          reservoir  regular   38\n",
       "2  1818344910  landuse             quarry  regular   26\n",
       "3  2772809623  landuse             retail  regular    5\n",
       "4  1143263540  landuse  recreation_ground  regular    3"
      ]
     },
     "execution_count": 81,
     "metadata": {},
     "output_type": "execute_result"
    }
   ],
   "source": [
    "query='''SELECT DISTINCT *, count(value) as num\n",
    "    FROM cleaned_nodetags \n",
    "    WHERE  key='landuse' GROUP BY value \n",
    "    UNION ALL\n",
    "    SELECT DISTINCT *, count(value) as num\n",
    "    FROM cleaned_waytags \n",
    "    WHERE  key='landuse' GROUP BY value\n",
    "    ORDER BY num DESC LIMIT 5;'''\n",
    "sql_to_df(query)\n",
    "\n"
   ]
  },
  {
   "cell_type": "markdown",
   "metadata": {},
   "source": [
    "# Common Institutions by City in greater Houston area"
   ]
  },
  {
   "cell_type": "markdown",
   "metadata": {},
   "source": [
    "1. Name and number of pharmacies  by city in greater Houston area"
   ]
  },
  {
   "cell_type": "code",
   "execution_count": 106,
   "metadata": {
    "collapsed": false,
    "scrolled": false
   },
   "outputs": [
    {
     "data": {
      "text/html": [
       "<div>\n",
       "<table border=\"1\" class=\"dataframe\">\n",
       "  <thead>\n",
       "    <tr style=\"text-align: right;\">\n",
       "      <th></th>\n",
       "      <th></th>\n",
       "      <th>Count</th>\n",
       "    </tr>\n",
       "    <tr>\n",
       "      <th>City</th>\n",
       "      <th>value</th>\n",
       "      <th></th>\n",
       "    </tr>\n",
       "  </thead>\n",
       "  <tbody>\n",
       "    <tr>\n",
       "      <th>Bellaire,Texas,USA</th>\n",
       "      <th>Randalls Pharmacy</th>\n",
       "      <td>8</td>\n",
       "    </tr>\n",
       "    <tr>\n",
       "      <th rowspan=\"2\" valign=\"top\">Cypress,Texas,USA</th>\n",
       "      <th>H-E-B Pharmacy</th>\n",
       "      <td>22</td>\n",
       "    </tr>\n",
       "    <tr>\n",
       "      <th>Randalls Pharmacy</th>\n",
       "      <td>8</td>\n",
       "    </tr>\n",
       "    <tr>\n",
       "      <th>Deer park,Texas,USA</th>\n",
       "      <th>H-E-B Pharmacy</th>\n",
       "      <td>8</td>\n",
       "    </tr>\n",
       "    <tr>\n",
       "      <th>Friendswood,Texas,USA</th>\n",
       "      <th>H-E-B Pharmacy</th>\n",
       "      <td>7</td>\n",
       "    </tr>\n",
       "    <tr>\n",
       "      <th rowspan=\"5\" valign=\"top\">Houston,Texas,USA</th>\n",
       "      <th>CVS</th>\n",
       "      <td>7</td>\n",
       "    </tr>\n",
       "    <tr>\n",
       "      <th>CVS Pharmacy</th>\n",
       "      <td>13</td>\n",
       "    </tr>\n",
       "    <tr>\n",
       "      <th>H-E-B Pharmacy</th>\n",
       "      <td>108</td>\n",
       "    </tr>\n",
       "    <tr>\n",
       "      <th>Randalls Pharmacy</th>\n",
       "      <td>104</td>\n",
       "    </tr>\n",
       "    <tr>\n",
       "      <th>Walgreens</th>\n",
       "      <td>28</td>\n",
       "    </tr>\n",
       "    <tr>\n",
       "      <th>Humble,Texas,USA</th>\n",
       "      <th>H-E-B Pharmacy</th>\n",
       "      <td>7</td>\n",
       "    </tr>\n",
       "    <tr>\n",
       "      <th rowspan=\"2\" valign=\"top\">Katy,Texas,USA</th>\n",
       "      <th>H-E-B Pharmacy</th>\n",
       "      <td>21</td>\n",
       "    </tr>\n",
       "    <tr>\n",
       "      <th>Randalls Pharmacy</th>\n",
       "      <td>24</td>\n",
       "    </tr>\n",
       "    <tr>\n",
       "      <th rowspan=\"5\" valign=\"top\">Kingwood,Texas,USA</th>\n",
       "      <th>H-E-B Pharmacy</th>\n",
       "      <td>7</td>\n",
       "    </tr>\n",
       "    <tr>\n",
       "      <th>Kelsey-Seybold Pharmacy</th>\n",
       "      <td>9</td>\n",
       "    </tr>\n",
       "    <tr>\n",
       "      <th>Kroger Pharmacy</th>\n",
       "      <td>8</td>\n",
       "    </tr>\n",
       "    <tr>\n",
       "      <th>Randalls Pharmacy</th>\n",
       "      <td>16</td>\n",
       "    </tr>\n",
       "    <tr>\n",
       "      <th>Walgreens</th>\n",
       "      <td>7</td>\n",
       "    </tr>\n",
       "    <tr>\n",
       "      <th rowspan=\"3\" valign=\"top\">League city,Texas,USA</th>\n",
       "      <th>H-E-B Pharmacy</th>\n",
       "      <td>7</td>\n",
       "    </tr>\n",
       "    <tr>\n",
       "      <th>Randalls Pharmacy</th>\n",
       "      <td>8</td>\n",
       "    </tr>\n",
       "    <tr>\n",
       "      <th>Walgreens</th>\n",
       "      <td>7</td>\n",
       "    </tr>\n",
       "    <tr>\n",
       "      <th rowspan=\"3\" valign=\"top\">Missouri city,Texas,USA</th>\n",
       "      <th>CVS</th>\n",
       "      <td>7</td>\n",
       "    </tr>\n",
       "    <tr>\n",
       "      <th>H-E-B Pharmacy</th>\n",
       "      <td>14</td>\n",
       "    </tr>\n",
       "    <tr>\n",
       "      <th>Walgreens</th>\n",
       "      <td>14</td>\n",
       "    </tr>\n",
       "    <tr>\n",
       "      <th>Pasadena,Texas,USA</th>\n",
       "      <th>H-E-B Pharmacy</th>\n",
       "      <td>7</td>\n",
       "    </tr>\n",
       "    <tr>\n",
       "      <th rowspan=\"2\" valign=\"top\">Pearland,Texas,USA</th>\n",
       "      <th>H-E-B Pharmacy</th>\n",
       "      <td>15</td>\n",
       "    </tr>\n",
       "    <tr>\n",
       "      <th>Randalls Pharmacy</th>\n",
       "      <td>8</td>\n",
       "    </tr>\n",
       "    <tr>\n",
       "      <th rowspan=\"2\" valign=\"top\">Richmond,Texas,USA</th>\n",
       "      <th>Kroger Pharmacy</th>\n",
       "      <td>9</td>\n",
       "    </tr>\n",
       "    <tr>\n",
       "      <th>Randalls Pharmacy</th>\n",
       "      <td>8</td>\n",
       "    </tr>\n",
       "    <tr>\n",
       "      <th rowspan=\"2\" valign=\"top\">Seabrook,Texas,USA</th>\n",
       "      <th>CVS</th>\n",
       "      <td>7</td>\n",
       "    </tr>\n",
       "    <tr>\n",
       "      <th>Walgreens</th>\n",
       "      <td>7</td>\n",
       "    </tr>\n",
       "    <tr>\n",
       "      <th rowspan=\"2\" valign=\"top\">Spring,Texas,USA</th>\n",
       "      <th>H-E-B Pharmacy</th>\n",
       "      <td>36</td>\n",
       "    </tr>\n",
       "    <tr>\n",
       "      <th>Randalls Pharmacy</th>\n",
       "      <td>8</td>\n",
       "    </tr>\n",
       "    <tr>\n",
       "      <th>Stafford,Texas,USA</th>\n",
       "      <th>Randalls Pharmacy</th>\n",
       "      <td>8</td>\n",
       "    </tr>\n",
       "    <tr>\n",
       "      <th rowspan=\"2\" valign=\"top\">Sugar land,Texas,USA</th>\n",
       "      <th>H-E-B Pharmacy</th>\n",
       "      <td>14</td>\n",
       "    </tr>\n",
       "    <tr>\n",
       "      <th>Randalls Pharmacy</th>\n",
       "      <td>8</td>\n",
       "    </tr>\n",
       "    <tr>\n",
       "      <th rowspan=\"2\" valign=\"top\">The woodlands,Texas,USA</th>\n",
       "      <th>H-E-B Pharmacy</th>\n",
       "      <td>7</td>\n",
       "    </tr>\n",
       "    <tr>\n",
       "      <th>Randalls Pharmacy</th>\n",
       "      <td>8</td>\n",
       "    </tr>\n",
       "    <tr>\n",
       "      <th rowspan=\"2\" valign=\"top\">Tomball,Texas,USA</th>\n",
       "      <th>H-E-B Pharmacy</th>\n",
       "      <td>9</td>\n",
       "    </tr>\n",
       "    <tr>\n",
       "      <th>Walgreens</th>\n",
       "      <td>5</td>\n",
       "    </tr>\n",
       "  </tbody>\n",
       "</table>\n",
       "</div>"
      ],
      "text/plain": [
       "                                                 Count\n",
       "City                    value                         \n",
       "Bellaire,Texas,USA      Randalls Pharmacy            8\n",
       "Cypress,Texas,USA       H-E-B Pharmacy              22\n",
       "                        Randalls Pharmacy            8\n",
       "Deer park,Texas,USA     H-E-B Pharmacy               8\n",
       "Friendswood,Texas,USA   H-E-B Pharmacy               7\n",
       "Houston,Texas,USA       CVS                          7\n",
       "                        CVS Pharmacy                13\n",
       "                        H-E-B Pharmacy             108\n",
       "                        Randalls Pharmacy          104\n",
       "                        Walgreens                   28\n",
       "Humble,Texas,USA        H-E-B Pharmacy               7\n",
       "Katy,Texas,USA          H-E-B Pharmacy              21\n",
       "                        Randalls Pharmacy           24\n",
       "Kingwood,Texas,USA      H-E-B Pharmacy               7\n",
       "                        Kelsey-Seybold Pharmacy      9\n",
       "                        Kroger Pharmacy              8\n",
       "                        Randalls Pharmacy           16\n",
       "                        Walgreens                    7\n",
       "League city,Texas,USA   H-E-B Pharmacy               7\n",
       "                        Randalls Pharmacy            8\n",
       "                        Walgreens                    7\n",
       "Missouri city,Texas,USA CVS                          7\n",
       "                        H-E-B Pharmacy              14\n",
       "                        Walgreens                   14\n",
       "Pasadena,Texas,USA      H-E-B Pharmacy               7\n",
       "Pearland,Texas,USA      H-E-B Pharmacy              15\n",
       "                        Randalls Pharmacy            8\n",
       "Richmond,Texas,USA      Kroger Pharmacy              9\n",
       "                        Randalls Pharmacy            8\n",
       "Seabrook,Texas,USA      CVS                          7\n",
       "                        Walgreens                    7\n",
       "Spring,Texas,USA        H-E-B Pharmacy              36\n",
       "                        Randalls Pharmacy            8\n",
       "Stafford,Texas,USA      Randalls Pharmacy            8\n",
       "Sugar land,Texas,USA    H-E-B Pharmacy              14\n",
       "                        Randalls Pharmacy            8\n",
       "The woodlands,Texas,USA H-E-B Pharmacy               7\n",
       "                        Randalls Pharmacy            8\n",
       "Tomball,Texas,USA       H-E-B Pharmacy               9\n",
       "                        Walgreens                    5"
      ]
     },
     "execution_count": 106,
     "metadata": {},
     "output_type": "execute_result"
    }
   ],
   "source": [
    "q='''SELECT * FROM  cleaned_nodetags WHERE id IN (SELECT id FROM cleaned_nodetags WHERE value ='pharmacy'); '''\n",
    "dfp1=sql_to_df(q)\n",
    "q1='''SELECT * FROM  cleaned_nodetags WHERE id IN (SELECT id FROM cleaned_nodetags WHERE value = 'pharmacy') \n",
    "AND key='city' ; '''\n",
    "dfp2=sql_to_df(q1)\n",
    "#dfp2\n",
    "q2='''SELECT * FROM  cleaned_nodetags WHERE  id IN (SELECT id FROM cleaned_nodetags WHERE value = 'pharmacy') \n",
    "AND key='name'; '''\n",
    "dfp3=sql_to_df(q2)\n",
    "dfp3\n",
    "df4=pd.merge(dfp1,dfp2, on='id')\n",
    "#df5=pd.merge(df4,df3,on='id')\n",
    "df4.columns=['id','Key','Count','Type','Place',\"City\",'Type2']\n",
    "#['value_y'].value_counts()\n",
    "df5=pd.merge(df4,dfp3,on='id')\n",
    "\n",
    "df6=df5[['Count','City','value']]\n",
    "#df6.columns=['City','Name','Count']\n",
    "df7=df6.groupby(['City','value']).count()\n",
    "#df7=df7.rename(columns={'City':'City', 'value':'School Name', 'Amenity Type':'Count'})\n",
    "df7\n"
   ]
  },
  {
   "cell_type": "code",
   "execution_count": 116,
   "metadata": {
    "collapsed": false
   },
   "outputs": [
    {
     "data": {
      "text/html": [
       "<div>\n",
       "<table border=\"1\" class=\"dataframe\">\n",
       "  <thead>\n",
       "    <tr style=\"text-align: right;\">\n",
       "      <th></th>\n",
       "      <th>id</th>\n",
       "      <th>key</th>\n",
       "      <th>value</th>\n",
       "      <th>type</th>\n",
       "    </tr>\n",
       "  </thead>\n",
       "  <tbody>\n",
       "    <tr>\n",
       "      <th>0</th>\n",
       "      <td>461853706</td>\n",
       "      <td>name</td>\n",
       "      <td>Walgreens</td>\n",
       "      <td>regular</td>\n",
       "    </tr>\n",
       "    <tr>\n",
       "      <th>1</th>\n",
       "      <td>461853706</td>\n",
       "      <td>amenity</td>\n",
       "      <td>pharmacy</td>\n",
       "      <td>regular</td>\n",
       "    </tr>\n",
       "    <tr>\n",
       "      <th>2</th>\n",
       "      <td>472496331</td>\n",
       "      <td>name</td>\n",
       "      <td>Walgreens</td>\n",
       "      <td>regular</td>\n",
       "    </tr>\n",
       "    <tr>\n",
       "      <th>3</th>\n",
       "      <td>472496331</td>\n",
       "      <td>amenity</td>\n",
       "      <td>pharmacy</td>\n",
       "      <td>regular</td>\n",
       "    </tr>\n",
       "    <tr>\n",
       "      <th>4</th>\n",
       "      <td>504536337</td>\n",
       "      <td>amenity</td>\n",
       "      <td>pharmacy</td>\n",
       "      <td>regular</td>\n",
       "    </tr>\n",
       "  </tbody>\n",
       "</table>\n",
       "</div>"
      ],
      "text/plain": [
       "          id      key      value     type\n",
       "0  461853706     name  Walgreens  regular\n",
       "1  461853706  amenity   pharmacy  regular\n",
       "2  472496331     name  Walgreens  regular\n",
       "3  472496331  amenity   pharmacy  regular\n",
       "4  504536337  amenity   pharmacy  regular"
      ]
     },
     "execution_count": 116,
     "metadata": {},
     "output_type": "execute_result"
    }
   ],
   "source": [
    "q='''SELECT * FROM  cleaned_nodetags WHERE id IN (SELECT id FROM cleaned_nodetags WHERE value LIKE '%pharmacy%'); '''\n",
    "sql_to_df(q).head()"
   ]
  },
  {
   "cell_type": "code",
   "execution_count": 117,
   "metadata": {
    "collapsed": false
   },
   "outputs": [
    {
     "data": {
      "text/html": [
       "<div>\n",
       "<table border=\"1\" class=\"dataframe\">\n",
       "  <thead>\n",
       "    <tr style=\"text-align: right;\">\n",
       "      <th></th>\n",
       "      <th>id</th>\n",
       "      <th>key</th>\n",
       "      <th>value</th>\n",
       "      <th>type</th>\n",
       "    </tr>\n",
       "  </thead>\n",
       "  <tbody>\n",
       "    <tr>\n",
       "      <th>0</th>\n",
       "      <td>461853706</td>\n",
       "      <td>name</td>\n",
       "      <td>Walgreens</td>\n",
       "      <td>regular</td>\n",
       "    </tr>\n",
       "    <tr>\n",
       "      <th>1</th>\n",
       "      <td>461853706</td>\n",
       "      <td>amenity</td>\n",
       "      <td>pharmacy</td>\n",
       "      <td>regular</td>\n",
       "    </tr>\n",
       "  </tbody>\n",
       "</table>\n",
       "</div>"
      ],
      "text/plain": [
       "          id      key      value     type\n",
       "0  461853706     name  Walgreens  regular\n",
       "1  461853706  amenity   pharmacy  regular"
      ]
     },
     "execution_count": 117,
     "metadata": {},
     "output_type": "execute_result"
    }
   ],
   "source": [
    "q='''SELECT * FROM  cleaned_nodetags WHERE id=461853706'''\n",
    "sql_to_df(q)"
   ]
  },
  {
   "cell_type": "markdown",
   "metadata": {},
   "source": [
    "2.Name and number of Hospitals  by city in greater Houston area"
   ]
  },
  {
   "cell_type": "code",
   "execution_count": 119,
   "metadata": {
    "collapsed": false,
    "scrolled": false
   },
   "outputs": [
    {
     "data": {
      "text/html": [
       "<div>\n",
       "<table border=\"1\" class=\"dataframe\">\n",
       "  <thead>\n",
       "    <tr style=\"text-align: right;\">\n",
       "      <th></th>\n",
       "      <th></th>\n",
       "      <th>Count</th>\n",
       "    </tr>\n",
       "    <tr>\n",
       "      <th>City</th>\n",
       "      <th>value</th>\n",
       "      <th></th>\n",
       "    </tr>\n",
       "  </thead>\n",
       "  <tbody>\n",
       "    <tr>\n",
       "      <th>Dickinson,Texas,USA</th>\n",
       "      <th>Bay Area Recovery Center</th>\n",
       "      <td>12</td>\n",
       "    </tr>\n",
       "    <tr>\n",
       "      <th rowspan=\"7\" valign=\"top\">Houston,Texas,USA</th>\n",
       "      <th>Cullen Building</th>\n",
       "      <td>6</td>\n",
       "    </tr>\n",
       "    <tr>\n",
       "      <th>Doctors Hospital</th>\n",
       "      <td>11</td>\n",
       "    </tr>\n",
       "    <tr>\n",
       "      <th>Michael E. Debakey Center</th>\n",
       "      <td>7</td>\n",
       "    </tr>\n",
       "    <tr>\n",
       "      <th>Park Plaza Hospital</th>\n",
       "      <td>14</td>\n",
       "    </tr>\n",
       "    <tr>\n",
       "      <th>St. John's Hospital (Houston Methodist)</th>\n",
       "      <td>7</td>\n",
       "    </tr>\n",
       "    <tr>\n",
       "      <th>Texas Children's Hospital</th>\n",
       "      <td>7</td>\n",
       "    </tr>\n",
       "    <tr>\n",
       "      <th>Texas Heart Institute - Denton A. Cooley Building</th>\n",
       "      <td>9</td>\n",
       "    </tr>\n",
       "    <tr>\n",
       "      <th>Pasadena,Texas,USA</th>\n",
       "      <th>Patients St. Luke's Medical Center</th>\n",
       "      <td>6</td>\n",
       "    </tr>\n",
       "    <tr>\n",
       "      <th rowspan=\"2\" valign=\"top\">Tomball,Texas,USA</th>\n",
       "      <th>Texas Sports Medical Center</th>\n",
       "      <td>10</td>\n",
       "    </tr>\n",
       "    <tr>\n",
       "      <th>Tomball Regional Hospital</th>\n",
       "      <td>10</td>\n",
       "    </tr>\n",
       "    <tr>\n",
       "      <th>Webster,Texas,USA</th>\n",
       "      <th>Bay Area Regional Medical Center</th>\n",
       "      <td>7</td>\n",
       "    </tr>\n",
       "  </tbody>\n",
       "</table>\n",
       "</div>"
      ],
      "text/plain": [
       "                                                                       Count\n",
       "City                value                                                   \n",
       "Dickinson,Texas,USA Bay Area Recovery Center                              12\n",
       "Houston,Texas,USA   Cullen Building                                        6\n",
       "                    Doctors Hospital                                      11\n",
       "                    Michael E. Debakey Center                              7\n",
       "                    Park Plaza Hospital                                   14\n",
       "                    St. John's Hospital (Houston Methodist)                7\n",
       "                    Texas Children's Hospital                              7\n",
       "                    Texas Heart Institute - Denton A. Cooley Building      9\n",
       "Pasadena,Texas,USA  Patients St. Luke's Medical Center                     6\n",
       "Tomball,Texas,USA   Texas Sports Medical Center                           10\n",
       "                    Tomball Regional Hospital                             10\n",
       "Webster,Texas,USA   Bay Area Regional Medical Center                       7"
      ]
     },
     "execution_count": 119,
     "metadata": {},
     "output_type": "execute_result"
    }
   ],
   "source": [
    "q='''SELECT * FROM  cleaned_nodetags WHERE id IN (SELECT id FROM cleaned_nodetags WHERE value ='hospital') \n",
    "; '''\n",
    "dfp1=sql_to_df(q)\n",
    "q1='''SELECT * FROM  cleaned_nodetags WHERE id IN (SELECT id FROM cleaned_nodetags WHERE value ='hospital') \n",
    "AND key='city' ; '''\n",
    "dfp2=sql_to_df(q1)\n",
    "#dfp2\n",
    "q2='''SELECT * FROM  cleaned_nodetags WHERE  id IN (SELECT id FROM cleaned_nodetags WHERE value ='hospital') \n",
    "AND key='name'; '''\n",
    "dfp3=sql_to_df(q2)\n",
    "dfp3\n",
    "df4=pd.merge(dfp1,dfp2, on='id')\n",
    "#df5=pd.merge(df4,df3,on='id')\n",
    "df4.columns=['id','Key','Count','Type','Place',\"City\",'Type2']\n",
    "#['value_y'].value_counts()\n",
    "df5=pd.merge(df4,dfp3,on='id')\n",
    "\n",
    "df6=df5[['Count','City','value']]\n",
    "#df6.columns=['City','Name','Count']\n",
    "df7=df6.groupby(['City','value']).count()\n",
    "#df7=df7.rename(columns={'City':'City', 'value':'School Name', 'Amenity Type':'Count'})\n",
    "df7"
   ]
  },
  {
   "cell_type": "markdown",
   "metadata": {},
   "source": [
    "# Top 5 amenities  in Harris county"
   ]
  },
  {
   "cell_type": "code",
   "execution_count": 83,
   "metadata": {
    "collapsed": false
   },
   "outputs": [
    {
     "data": {
      "text/html": [
       "<div>\n",
       "<table border=\"1\" class=\"dataframe\">\n",
       "  <thead>\n",
       "    <tr style=\"text-align: right;\">\n",
       "      <th></th>\n",
       "      <th>id</th>\n",
       "      <th>key</th>\n",
       "      <th>value</th>\n",
       "      <th>value</th>\n",
       "      <th>num</th>\n",
       "    </tr>\n",
       "  </thead>\n",
       "  <tbody>\n",
       "    <tr>\n",
       "      <th>0</th>\n",
       "      <td>368161440</td>\n",
       "      <td>amenity</td>\n",
       "      <td>fire_station</td>\n",
       "      <td>Harris</td>\n",
       "      <td>192</td>\n",
       "    </tr>\n",
       "    <tr>\n",
       "      <th>1</th>\n",
       "      <td>368162710</td>\n",
       "      <td>amenity</td>\n",
       "      <td>police</td>\n",
       "      <td>Harris</td>\n",
       "      <td>85</td>\n",
       "    </tr>\n",
       "    <tr>\n",
       "      <th>2</th>\n",
       "      <td>368162199</td>\n",
       "      <td>amenity</td>\n",
       "      <td>library</td>\n",
       "      <td>Harris</td>\n",
       "      <td>14</td>\n",
       "    </tr>\n",
       "    <tr>\n",
       "      <th>3</th>\n",
       "      <td>368162538</td>\n",
       "      <td>amenity</td>\n",
       "      <td>townhall</td>\n",
       "      <td>Harris</td>\n",
       "      <td>8</td>\n",
       "    </tr>\n",
       "    <tr>\n",
       "      <th>4</th>\n",
       "      <td>368160522</td>\n",
       "      <td>amenity</td>\n",
       "      <td>courthouse</td>\n",
       "      <td>Harris</td>\n",
       "      <td>6</td>\n",
       "    </tr>\n",
       "  </tbody>\n",
       "</table>\n",
       "</div>"
      ],
      "text/plain": [
       "          id      key         value   value  num\n",
       "0  368161440  amenity  fire_station  Harris  192\n",
       "1  368162710  amenity        police  Harris   85\n",
       "2  368162199  amenity       library  Harris   14\n",
       "3  368162538  amenity      townhall  Harris    8\n",
       "4  368160522  amenity    courthouse  Harris    6"
      ]
     },
     "execution_count": 83,
     "metadata": {},
     "output_type": "execute_result"
    }
   ],
   "source": [
    "query='''SELECT a.id,a.key,a.value,b.value,count(a.value) as num\n",
    "    FROM cleaned_nodetags as a, cleaned_nodetags as b\n",
    "    WHERE a.id=b.id and a.key='amenity' and b.value='Harris'\n",
    "    GROUP BY a.value ORDER BY num DESC LIMIT 5;'''\n",
    "sql_to_df(query)"
   ]
  },
  {
   "cell_type": "markdown",
   "metadata": {},
   "source": [
    "1. Number and Name of Police stations in Harris County"
   ]
  },
  {
   "cell_type": "code",
   "execution_count": 85,
   "metadata": {
    "collapsed": false
   },
   "outputs": [
    {
     "name": "stdout",
     "output_type": "stream",
     "text": [
      "Number of police stations= 75\n"
     ]
    },
    {
     "data": {
      "text/html": [
       "<div>\n",
       "<table border=\"1\" class=\"dataframe\">\n",
       "  <thead>\n",
       "    <tr style=\"text-align: right;\">\n",
       "      <th></th>\n",
       "      <th>id</th>\n",
       "      <th>key</th>\n",
       "      <th>value</th>\n",
       "      <th>type</th>\n",
       "    </tr>\n",
       "  </thead>\n",
       "  <tbody>\n",
       "    <tr>\n",
       "      <th>0</th>\n",
       "      <td>368162236</td>\n",
       "      <td>name</td>\n",
       "      <td>Houston Police Department - Independence Heights</td>\n",
       "      <td>regular</td>\n",
       "    </tr>\n",
       "    <tr>\n",
       "      <th>1</th>\n",
       "      <td>368162237</td>\n",
       "      <td>name</td>\n",
       "      <td>Houston Police Department - Eastside Patrol</td>\n",
       "      <td>regular</td>\n",
       "    </tr>\n",
       "    <tr>\n",
       "      <th>2</th>\n",
       "      <td>368162240</td>\n",
       "      <td>name</td>\n",
       "      <td>Katy Police Department</td>\n",
       "      <td>regular</td>\n",
       "    </tr>\n",
       "    <tr>\n",
       "      <th>3</th>\n",
       "      <td>368162245</td>\n",
       "      <td>name</td>\n",
       "      <td>Houston Police Department - Southeast Patrol</td>\n",
       "      <td>regular</td>\n",
       "    </tr>\n",
       "    <tr>\n",
       "      <th>4</th>\n",
       "      <td>368162246</td>\n",
       "      <td>name</td>\n",
       "      <td>Galena Park Police Department</td>\n",
       "      <td>regular</td>\n",
       "    </tr>\n",
       "  </tbody>\n",
       "</table>\n",
       "</div>"
      ],
      "text/plain": [
       "          id   key                                             value     type\n",
       "0  368162236  name  Houston Police Department - Independence Heights  regular\n",
       "1  368162237  name       Houston Police Department - Eastside Patrol  regular\n",
       "2  368162240  name                            Katy Police Department  regular\n",
       "3  368162245  name      Houston Police Department - Southeast Patrol  regular\n",
       "4  368162246  name                     Galena Park Police Department  regular"
      ]
     },
     "execution_count": 85,
     "metadata": {},
     "output_type": "execute_result"
    }
   ],
   "source": [
    "query='''SELECT * FROM cleaned_nodetags WHERE value  LIKE '%Police%' AND key= 'name' AND id IN \n",
    "(SELECT id\n",
    "    FROM cleaned_nodetags \n",
    "    WHERE  value='Harris'); '''\n",
    "print \"Number of police stations=\",len(sql_to_df(query)) \n",
    "sql_to_df(query).head()\n"
   ]
  },
  {
   "cell_type": "markdown",
   "metadata": {},
   "source": [
    "2.Number and Name of fire stations in Harris County"
   ]
  },
  {
   "cell_type": "code",
   "execution_count": 84,
   "metadata": {
    "collapsed": false
   },
   "outputs": [
    {
     "name": "stdout",
     "output_type": "stream",
     "text": [
      "Number of Fire stations= 193\n"
     ]
    },
    {
     "data": {
      "text/html": [
       "<div>\n",
       "<table border=\"1\" class=\"dataframe\">\n",
       "  <thead>\n",
       "    <tr style=\"text-align: right;\">\n",
       "      <th></th>\n",
       "      <th>id</th>\n",
       "      <th>key</th>\n",
       "      <th>value</th>\n",
       "      <th>type</th>\n",
       "    </tr>\n",
       "  </thead>\n",
       "  <tbody>\n",
       "    <tr>\n",
       "      <th>0</th>\n",
       "      <td>368160241</td>\n",
       "      <td>name</td>\n",
       "      <td>Pasadena Fire Chief</td>\n",
       "      <td>regular</td>\n",
       "    </tr>\n",
       "    <tr>\n",
       "      <th>1</th>\n",
       "      <td>368160461</td>\n",
       "      <td>name</td>\n",
       "      <td>Houston Fire Department Station 9</td>\n",
       "      <td>regular</td>\n",
       "    </tr>\n",
       "    <tr>\n",
       "      <th>2</th>\n",
       "      <td>368160463</td>\n",
       "      <td>name</td>\n",
       "      <td>Houston Fire Department Station 7</td>\n",
       "      <td>regular</td>\n",
       "    </tr>\n",
       "    <tr>\n",
       "      <th>3</th>\n",
       "      <td>368160464</td>\n",
       "      <td>name</td>\n",
       "      <td>Heights Fire Department</td>\n",
       "      <td>regular</td>\n",
       "    </tr>\n",
       "    <tr>\n",
       "      <th>4</th>\n",
       "      <td>368160572</td>\n",
       "      <td>name</td>\n",
       "      <td>Houston Fire Department - Arson Division</td>\n",
       "      <td>regular</td>\n",
       "    </tr>\n",
       "  </tbody>\n",
       "</table>\n",
       "</div>"
      ],
      "text/plain": [
       "          id   key                                     value     type\n",
       "0  368160241  name                       Pasadena Fire Chief  regular\n",
       "1  368160461  name         Houston Fire Department Station 9  regular\n",
       "2  368160463  name         Houston Fire Department Station 7  regular\n",
       "3  368160464  name                   Heights Fire Department  regular\n",
       "4  368160572  name  Houston Fire Department - Arson Division  regular"
      ]
     },
     "execution_count": 84,
     "metadata": {},
     "output_type": "execute_result"
    }
   ],
   "source": [
    "query='''SELECT * FROM cleaned_nodetags WHERE value  LIKE '%Fire%' AND key= 'name' AND id IN \n",
    "(SELECT id\n",
    "    FROM cleaned_nodetags \n",
    "    WHERE  value='Harris'); '''\n",
    "print \"Number of Fire stations=\",len(sql_to_df(query)) \n",
    "sql_to_df(query).head()"
   ]
  },
  {
   "cell_type": "markdown",
   "metadata": {},
   "source": [
    "3.Name of Airports in Harris County"
   ]
  },
  {
   "cell_type": "code",
   "execution_count": 35,
   "metadata": {
    "collapsed": false,
    "scrolled": false
   },
   "outputs": [
    {
     "data": {
      "text/html": [
       "<div>\n",
       "<table border=\"1\" class=\"dataframe\">\n",
       "  <thead>\n",
       "    <tr style=\"text-align: right;\">\n",
       "      <th></th>\n",
       "      <th>id</th>\n",
       "      <th>key</th>\n",
       "      <th>value</th>\n",
       "      <th>type</th>\n",
       "    </tr>\n",
       "  </thead>\n",
       "  <tbody>\n",
       "    <tr>\n",
       "      <th>0</th>\n",
       "      <td>368162275</td>\n",
       "      <td>name</td>\n",
       "      <td>Houston Police Department - Hobby Airport</td>\n",
       "      <td>regular</td>\n",
       "    </tr>\n",
       "    <tr>\n",
       "      <th>1</th>\n",
       "      <td>368162708</td>\n",
       "      <td>name</td>\n",
       "      <td>Houston Police Department - Intercontinental A...</td>\n",
       "      <td>regular</td>\n",
       "    </tr>\n",
       "    <tr>\n",
       "      <th>2</th>\n",
       "      <td>369120474</td>\n",
       "      <td>name</td>\n",
       "      <td>Baytown Airport</td>\n",
       "      <td>regular</td>\n",
       "    </tr>\n",
       "    <tr>\n",
       "      <th>3</th>\n",
       "      <td>369120632</td>\n",
       "      <td>name</td>\n",
       "      <td>Ferris Airport</td>\n",
       "      <td>regular</td>\n",
       "    </tr>\n",
       "    <tr>\n",
       "      <th>4</th>\n",
       "      <td>369120828</td>\n",
       "      <td>name</td>\n",
       "      <td>Flying F Ranch Airport</td>\n",
       "      <td>regular</td>\n",
       "    </tr>\n",
       "    <tr>\n",
       "      <th>5</th>\n",
       "      <td>369120830</td>\n",
       "      <td>name</td>\n",
       "      <td>Roeder Airport</td>\n",
       "      <td>regular</td>\n",
       "    </tr>\n",
       "    <tr>\n",
       "      <th>6</th>\n",
       "      <td>369120831</td>\n",
       "      <td>name</td>\n",
       "      <td>Rogers Airport</td>\n",
       "      <td>regular</td>\n",
       "    </tr>\n",
       "    <tr>\n",
       "      <th>7</th>\n",
       "      <td>369121182</td>\n",
       "      <td>name</td>\n",
       "      <td>Green Acres Airport</td>\n",
       "      <td>regular</td>\n",
       "    </tr>\n",
       "    <tr>\n",
       "      <th>8</th>\n",
       "      <td>369121261</td>\n",
       "      <td>name</td>\n",
       "      <td>Skyhaven Airport</td>\n",
       "      <td>regular</td>\n",
       "    </tr>\n",
       "    <tr>\n",
       "      <th>9</th>\n",
       "      <td>369121619</td>\n",
       "      <td>name</td>\n",
       "      <td>West Houston Airport</td>\n",
       "      <td>regular</td>\n",
       "    </tr>\n",
       "    <tr>\n",
       "      <th>10</th>\n",
       "      <td>369121800</td>\n",
       "      <td>name</td>\n",
       "      <td>Freeman Property Airport</td>\n",
       "      <td>regular</td>\n",
       "    </tr>\n",
       "    <tr>\n",
       "      <th>11</th>\n",
       "      <td>369121801</td>\n",
       "      <td>name</td>\n",
       "      <td>Harold Freeman Farm Airport</td>\n",
       "      <td>regular</td>\n",
       "    </tr>\n",
       "  </tbody>\n",
       "</table>\n",
       "</div>"
      ],
      "text/plain": [
       "           id   key                                              value  \\\n",
       "0   368162275  name          Houston Police Department - Hobby Airport   \n",
       "1   368162708  name  Houston Police Department - Intercontinental A...   \n",
       "2   369120474  name                                    Baytown Airport   \n",
       "3   369120632  name                                     Ferris Airport   \n",
       "4   369120828  name                             Flying F Ranch Airport   \n",
       "5   369120830  name                                     Roeder Airport   \n",
       "6   369120831  name                                     Rogers Airport   \n",
       "7   369121182  name                                Green Acres Airport   \n",
       "8   369121261  name                                   Skyhaven Airport   \n",
       "9   369121619  name                               West Houston Airport   \n",
       "10  369121800  name                           Freeman Property Airport   \n",
       "11  369121801  name                        Harold Freeman Farm Airport   \n",
       "\n",
       "       type  \n",
       "0   regular  \n",
       "1   regular  \n",
       "2   regular  \n",
       "3   regular  \n",
       "4   regular  \n",
       "5   regular  \n",
       "6   regular  \n",
       "7   regular  \n",
       "8   regular  \n",
       "9   regular  \n",
       "10  regular  \n",
       "11  regular  "
      ]
     },
     "execution_count": 35,
     "metadata": {},
     "output_type": "execute_result"
    }
   ],
   "source": [
    "query='''SELECT * FROM cleaned_nodetags WHERE value LIKE '%Airport' AND key= 'name' AND id IN \n",
    "(SELECT id\n",
    "    FROM cleaned_nodetags \n",
    "    WHERE  value='Harris'); '''\n",
    "sql_to_df(query)"
   ]
  },
  {
   "cell_type": "markdown",
   "metadata": {
    "collapsed": true
   },
   "source": [
    "# Conclusion\n",
    "\n",
    "After this investigation of the data set, I found that the open street map data for greater Houston area is incomplete. For example, Some amenities  (such as Walgreens pharmacy) which I personally know it does exist in Bellaire City, is not in the data. This might be due to incomplete representation in the data (i.e, the name Walgreens pharmacy may exist but its adress and city might not exist in the data). Another problem I found was strong non uniformity of the data. For example some amenities have full adresses including city, zip code even phone number and others have only names. This might be partly due to the data imported from the GNIS data base which is basically a database of names and also the fact that the open street map data is input of many contributers from GPS data. I suggest at least two ways to improve the quality of the data. One possible way is by importing cleaned and updated data from other sources such as google map APIs. Another way is to put an automated quality improvement system using machine learing techniques such as a recommender system that recommends attributes to a contributor and a feedback system that updates the changes every a new contributor made to other contributors for immediate review. I believe by putting those the above two methods with  a GPS data auditor,  a more robust data processor like data.py and my own auditing_city_and_street.py to input a more cleaner and uniform data into the open street map data. In general, implementing quality improvement in open street map data is beneficial  for getting a better map and better awareness of our world that would give countless advantages for the growing map demanding technologies. On the other hand, implementing quality improvement of OSM may be damaging if not properly and carefully handled. For example importing third-party datasets can't be beneficial if the data format is not well translated to the OSM data formats. Another damaging issue is problematic editing of the OSM data. In this case contributors may delete, change exiting features, tags  unintentionally that would result in poorer quality than it was. Therefore, if quality improvement needs tobe implemented it should be implemented with extra care and I suggest also to use autonomous recommending and feedback system in the OSM edition process."
   ]
  },
  {
   "cell_type": "markdown",
   "metadata": {
    "collapsed": true
   },
   "source": [
    "# REFERENCES"
   ]
  },
  {
   "cell_type": "markdown",
   "metadata": {},
   "source": [
    "1. https://github.com/allanbreyes/udacity-data-science/blob/master/p2/data.py\n",
    "2. https://gist.github.com/carlward/54ec1c91b62a5f911c42#file-sample_project-md\n",
    "3. http://wiki.openstreetmap.org/wiki/USGS_GNIS\n",
    "4. http://flrec.ifas.ufl.edu/geomatics/wp-content/uploads/2012/02/tgis12037.pdf\n",
    "5. https://pdfs.semanticscholar.org/f57e/61c9ec141196e9229bfd117518067e3d412a.pdf"
   ]
  },
  {
   "cell_type": "code",
   "execution_count": null,
   "metadata": {
    "collapsed": true
   },
   "outputs": [],
   "source": []
  }
 ],
 "metadata": {
  "kernelspec": {
   "display_name": "Python 2",
   "language": "python",
   "name": "python2"
  },
  "language_info": {
   "codemirror_mode": {
    "name": "ipython",
    "version": 2
   },
   "file_extension": ".py",
   "mimetype": "text/x-python",
   "name": "python",
   "nbconvert_exporter": "python",
   "pygments_lexer": "ipython2",
   "version": "2.7.12"
  }
 },
 "nbformat": 4,
 "nbformat_minor": 0
}
